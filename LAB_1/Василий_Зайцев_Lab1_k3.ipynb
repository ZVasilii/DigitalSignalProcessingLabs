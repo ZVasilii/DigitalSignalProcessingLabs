{
 "cells": [
  {
   "cell_type": "markdown",
   "metadata": {
    "id": "caXtfoHZzA7v"
   },
   "source": [
    "#  Лабораторная работа №1 «Дискретизация аналоговых сигналов»\n",
    "Радиофизическая лаборатория 2020-2021 уч. год., понедельник 17:05–20:00\n",
    "Группы Б01-818, С01-819 ФРКТ МФТИ\n"
   ]
  },
  {
   "cell_type": "markdown",
   "metadata": {
    "id": "KfmElNCFzA74"
   },
   "source": [
    "# Занятие 1. Классификация сигналов: аналоговые, дискретные, цифровые."
   ]
  },
  {
   "cell_type": "code",
   "execution_count": 5,
   "metadata": {
    "colab": {
     "base_uri": "https://localhost:8080/"
    },
    "id": "5Z1C-fJjzA75",
    "outputId": "94d6feb9-eeac-4030-b9ca-742f942738a8",
    "scrolled": true
   },
   "outputs": [
    {
     "name": "stdout",
     "output_type": "stream",
     "text": [
      "Requirement already satisfied: matplotlib in /home/vasilii/.local/lib/python3.8/site-packages (3.4.3)\n",
      "Requirement already satisfied: kiwisolver>=1.0.1 in /home/vasilii/anaconda3/lib/python3.8/site-packages (from matplotlib) (1.3.1)\n",
      "Requirement already satisfied: cycler>=0.10 in /home/vasilii/anaconda3/lib/python3.8/site-packages (from matplotlib) (0.10.0)\n",
      "Requirement already satisfied: python-dateutil>=2.7 in /home/vasilii/anaconda3/lib/python3.8/site-packages (from matplotlib) (2.8.2)\n",
      "Requirement already satisfied: pyparsing>=2.2.1 in /home/vasilii/anaconda3/lib/python3.8/site-packages (from matplotlib) (2.4.7)\n",
      "Requirement already satisfied: numpy>=1.16 in /home/vasilii/anaconda3/lib/python3.8/site-packages (from matplotlib) (1.20.3)\n",
      "Requirement already satisfied: pillow>=6.2.0 in /home/vasilii/anaconda3/lib/python3.8/site-packages (from matplotlib) (8.3.1)\n",
      "Requirement already satisfied: six in /home/vasilii/anaconda3/lib/python3.8/site-packages (from cycler>=0.10->matplotlib) (1.16.0)\n"
     ]
    }
   ],
   "source": [
    "# Обновление библиотеки Matplotlib (требуется >=3.3.4)\n",
    "!pip install --upgrade matplotlib --user "
   ]
  },
  {
   "cell_type": "code",
   "execution_count": 6,
   "metadata": {
    "id": "RBqGVGVCzA74"
   },
   "outputs": [],
   "source": [
    "import numpy as np                # импорт бибилиотеки numpy\n",
    "import matplotlib.pyplot as plt   # импорт модуля matplotlib.pyplot"
   ]
  },
  {
   "cell_type": "code",
   "execution_count": 8,
   "metadata": {
    "id": "MizbEjGjzA75"
   },
   "outputs": [],
   "source": [
    "# Если используете Jupyter, то можно поменять backend\n",
    "%matplotlib notebook\n",
    "#%matplotlib inline"
   ]
  },
  {
   "cell_type": "markdown",
   "metadata": {
    "id": "JeQq1tyGu0iR"
   },
   "source": [
    "## Задача 0. Введение в Python 3. (Задание к допуску)\n",
    "\n",
    "1) Подгрузить библиотеку *Numpy* (`import numpy as np`).\n",
    "\n",
    "2) Создать массив от 1 до 10 с шагом 2 – [1, 3, 5, 7, 9] – тремя разными способами (используя  три разные функции `np.array()`, `np.arange()`, `np.linspace()`).\n",
    "\n",
    "3) Создать массив целых чисел от 0 до 100 (размерностью 100 элементов) максимально короткой записью.\n",
    "\n",
    "4) Создать массив `k`, такой же как описан в п.3. Используя его, создать массив (набор отсчетов) `x`, соответствующий формуле $x[k] = \\sin(2\\pi \\dfrac{f_0}{f_s}k)$, где $\\dfrac{f_0}{f_s}$ взять равным 0.07. Следует использовать функцию `np.sin()` и константу `np.pi`.\n",
    "\n",
    "5) Подгрузить модуль *pyplot* библиотеки *Matplotlib* (`import matplotlib.pyplot as plt`).\n",
    "\n",
    "6) Создать холст (другие названия полотно, канва) размером 12 на 5 дюйма (`figsize = [12, 5]`).\n",
    "\n",
    "7) Построить график $x[k]$ (`plt.plot(k, x)`), сделать подписи осей и заголовок графика.\n",
    "\n",
    "8) Поменять цвет линии графика из п.7 на красный или оранжевый и тип линии на пунктир. Построить на графике отсчеты $x[k]$ с помощью функции `plt.stem(k, x)`, см. Задача 1.1 и Задача 1.2.  \n",
    "(Для того чтобы поменять тип линии на пунктир, нужно в параметре отвечающем за цвет поставить модификатор \"--\", например `'--b'`.)\n",
    "\n",
    "9) Работа с функциями.\n",
    "  1. Создать функцию, соответствующую формуле $\\dfrac{\\sin(x)}{x}$. `def my_fun(x):`\n",
    "  2. Незабыть обработать неопределенность в 0.  \n",
    "  `if x=0:`  \n",
    "  ....`return 1`  \n",
    "  `else`  \n",
    "  ....`return np.sin(x)/x`\n",
    "  3. Выполнить п.4 и п.7, создав новый массив значений `y`, используя созданную вами функцию.\n",
    "\n",
    "10)*  Выполнить п.4, только для массива `z`, который соответствует комплексной экспоненциальной функции $z[k] = \\exp(-j\\,2\\pi\\,\\dfrac{f_0}{f_s}k)$  (функция `np.exp()`). Выполнить п.7, но построить отдельно график реальной и график мнимой частей этой функции."
   ]
  },
  {
   "cell_type": "markdown",
   "metadata": {
    "id": "836_2ql9zA75"
   },
   "source": [
    "## Задача 1.1. Дискретизация и квантование."
   ]
  },
  {
   "cell_type": "code",
   "execution_count": null,
   "metadata": {
    "id": "IozUVJhO9hn_"
   },
   "outputs": [],
   "source": []
  },
  {
   "cell_type": "code",
   "execution_count": 4,
   "metadata": {
    "id": "TiXdXo4_zA76"
   },
   "outputs": [],
   "source": [
    "import numpy as np                # импорт бибилиотеки numpy\n",
    "import matplotlib.pyplot as plt   # импорт модуля matplotlib.pyplot\n",
    "def quantize_uniform(x, quant_min=-1, quant_max=1, quant_level=5):\n",
    "    \"\"\"Uniform quantization approach\n",
    "    From: Müller M. Fundamentals of music processing: Audio, analysis, algorithms, applications. – Springer, 2015.\n",
    "    Notebook: C2S2_DigitalSignalQuantization.ipynb\n",
    "    Args:\n",
    "        x: Original signal\n",
    "        quant_min: Minimum quantization level\n",
    "        quant_max: Maximum quantization level\n",
    "        quant_level: Number of quantization levels\n",
    "    Returns:\n",
    "        x_quant: Quantized signal\n",
    "    \"\"\"\n",
    "    x_normalize = (x-quant_min) * (quant_level-1) / (quant_max-quant_min)\n",
    "    x_normalize[x_normalize > quant_level - 1] = quant_level - 1\n",
    "    x_normalize[x_normalize < 0] = 0\n",
    "    x_normalize_quant = np.around(x_normalize)\n",
    "    x_quant = (x_normalize_quant) * (quant_max-quant_min) / (quant_level-1) + quant_min\n",
    "    return x_quant"
   ]
  },
  {
   "cell_type": "markdown",
   "metadata": {
    "id": "0vDQktWnzA76"
   },
   "source": [
    "| Варианты: |   1 |    2 |    3 |   4 |    5 |    6 |    7 |    8 |    9 |   10 |   11 |   12 |\n",
    "|:---------:|----:|-----:|-----:|----:|-----:|-----:|-----:|-----:|-----:|-----:|-----:|-----:|\n",
    "|     **N**     |  15 |   20 |   30 |  12 |   15 |   30 |   25 |   18 |   10 |   25 |   20 |   15 |\n",
    "|   $f_0$**, Гц**   | 200 |  250 |  400 | 200 |  600 |  750 | 1200 |  600 |  400 |  500 |  800 |  400 |\n",
    "|   $f_s$**, Гц**   | 500 | 1250 | 2000 | 600 | 1500 | 3750 | 6000 | 1800 | 1000 | 2500 | 4000 | 1200 |"
   ]
  },
  {
   "cell_type": "markdown",
   "metadata": {
    "id": "qbBt5kATzA76"
   },
   "source": [
    "Промоделировать дискретизацию и квантование синусоидального сигнала $x(t)=\\sin(2\\pi f_0 t)$ с частотой дискретизации $f_s$. Пронаблюдать эффекты во временной области для отрезка сигнала из $N$ отсчетов. \n",
    "\n",
    "1) Как соотносится растояние между отсчетами по оси времени с частотой дискретизации?\n",
    "\n",
    "2) Как изменяется абсолютная ошибка квантования $\\varepsilon[k]=|x[k]-y[k]|$ с ростом числа уровней квантования?"
   ]
  },
  {
   "cell_type": "code",
   "execution_count": 5,
   "metadata": {
    "id": "TMcOI4clzA76"
   },
   "outputs": [],
   "source": [
    "N=25                                    # Число отсчетов по времени\n",
    "f0=200.0                                # Частота синусоиды в Гц\n",
    "fs=2000.0                               # Частота дискретизации в Гц\n",
    "k=np.arange(N)                          # Mассив времен k от 0 до N-1 с шагом 1\n",
    "x=np.sin(2*np.pi*(f0/fs)*k)             # Последовательность x[k]\n",
    "num_levels=9                            # число уровней квантования"
   ]
  },
  {
   "cell_type": "code",
   "execution_count": 6,
   "metadata": {
    "colab": {
     "base_uri": "https://localhost:8080/",
     "height": 297
    },
    "id": "YXD26j6ozA77",
    "outputId": "42d07b74-a2e8-46f1-fd5a-3d3c93d66f7b"
   },
   "outputs": [
    {
     "data": {
      "image/png": "[encoded data removed]",
      "text/plain": [
       "<Figure size 864x288 with 1 Axes>"
      ]
     },
     "metadata": {
      "needs_background": "light"
     },
     "output_type": "display_data"
    }
   ],
   "source": [
    "          # Построение графиков аналогового и дискретизованного сигнала\n",
    "plt.figure(figsize=[12, 4])              # создание полотна размером шириной 8 X 4 дюйма\n",
    "t=np.linspace(0, N/fs, num=1024)        # создание массива времен t (1024 значения от 0 до N*fs)\n",
    "\n",
    "plt.plot(t, np.sin(2*np.pi*f0*t), 'g', label='аналоговый сигнал $x(t)$')  \n",
    "                                        # построение графика x(t) (точки соединяются линиями)\n",
    "                                        # 'g' означает, что используется зеленая линия (green)\n",
    "plt.stem(k/fs, x, 'b', 'bo', label='дискретизованный сигнал $x[k]$')            \n",
    "                                        # построение графика функции дискретного времени x[k]\n",
    "                                        # 'b', 'bo' означает, что отсчеты оборажаются синим цветом (blue)\n",
    "plt.grid()                              # сетка\n",
    "plt.xlabel(\"$t$, c\")                    # подпись оси X\n",
    "plt.ylabel(\"$x(t), x[k]$\")              # подпись оси Y\n",
    "plt.title(\"Аналоговый и дискретизованный сигналы\") # заголовок графика\n",
    "plt.legend(loc='best', bbox_to_anchor=(1, 1))\n",
    "plt.tight_layout()                      # автоматическая корректировка расположения осей графика"
   ]
  },
  {
   "cell_type": "code",
   "execution_count": 13,
   "metadata": {
    "id": "YLHhjxX1zA77"
   },
   "outputs": [],
   "source": [
    "# моделирование квантования дискретного сигнала\n",
    "y=quantize_uniform(x, quant_min=-1, quant_max=1, quant_level=num_levels)\n",
    "bins=np.linspace(-1, 1, num_levels)"
   ]
  },
  {
   "cell_type": "code",
   "execution_count": 12,
   "metadata": {
    "colab": {
     "base_uri": "https://localhost:8080/",
     "height": 297
    },
    "id": "zcCcv6IMzA78",
    "outputId": "8f35577a-f8f8-419c-ec52-a1d66c5f1f77"
   },
   "outputs": [
    {
     "data": {
      "application/javascript": [
       "/* Put everything inside the global mpl namespace */\n",
       "/* global mpl */\n",
       "window.mpl = {};\n",
       "\n",
       "mpl.get_websocket_type = function () {\n",
       "    if (typeof WebSocket !== 'undefined') {\n",
       "        return WebSocket;\n",
       "    } else if (typeof MozWebSocket !== 'undefined') {\n",
       "        return MozWebSocket;\n",
       "    } else {\n",
       "        alert(\n",
       "            'Your browser does not have WebSocket support. ' +\n",
       "                'Please try Chrome, Safari or Firefox ≥ 6. ' +\n",
       "                'Firefox 4 and 5 are also supported but you ' +\n",
       "                'have to enable WebSockets in about:config.'\n",
       "        );\n",
       "    }\n",
       "};\n",
       "\n",
       "mpl.figure = function (figure_id, websocket, ondownload, parent_element) {\n",
       "    this.id = figure_id;\n",
       "\n",
       "    this.ws = websocket;\n",
       "\n",
       "    this.supports_binary = this.ws.binaryType !== undefined;\n",
       "\n",
       "    if (!this.supports_binary) {\n",
       "        var warnings = document.getElementById('mpl-warnings');\n",
       "        if (warnings) {\n",
       "            warnings.style.display = 'block';\n",
       "            warnings.textContent =\n",
       "                'This browser does not support binary websocket messages. ' +\n",
       "                'Performance may be slow.';\n",
       "        }\n",
       "    }\n",
       "\n",
       "    this.imageObj = new Image();\n",
       "\n",
       "    this.context = undefined;\n",
       "    this.message = undefined;\n",
       "    this.canvas = undefined;\n",
       "    this.rubberband_canvas = undefined;\n",
       "    this.rubberband_context = undefined;\n",
       "    this.format_dropdown = undefined;\n",
       "\n",
       "    this.image_mode = 'full';\n",
       "\n",
       "    this.root = document.createElement('div');\n",
       "    this.root.setAttribute('style', 'display: inline-block');\n",
       "    this._root_extra_style(this.root);\n",
       "\n",
       "    parent_element.appendChild(this.root);\n",
       "\n",
       "    this._init_header(this);\n",
       "    this._init_canvas(this);\n",
       "    this._init_toolbar(this);\n",
       "\n",
       "    var fig = this;\n",
       "\n",
       "    this.waiting = false;\n",
       "\n",
       "    this.ws.onopen = function () {\n",
       "        fig.send_message('supports_binary', { value: fig.supports_binary });\n",
       "        fig.send_message('send_image_mode', {});\n",
       "        if (fig.ratio !== 1) {\n",
       "            fig.send_message('set_dpi_ratio', { dpi_ratio: fig.ratio });\n",
       "        }\n",
       "        fig.send_message('refresh', {});\n",
       "    };\n",
       "\n",
       "    this.imageObj.onload = function () {\n",
       "        if (fig.image_mode === 'full') {\n",
       "            // Full images could contain transparency (where diff images\n",
       "            // almost always do), so we need to clear the canvas so that\n",
       "            // there is no ghosting.\n",
       "            fig.context.clearRect(0, 0, fig.canvas.width, fig.canvas.height);\n",
       "        }\n",
       "        fig.context.drawImage(fig.imageObj, 0, 0);\n",
       "    };\n",
       "\n",
       "    this.imageObj.onunload = function () {\n",
       "        fig.ws.close();\n",
       "    };\n",
       "\n",
       "    this.ws.onmessage = this._make_on_message_function(this);\n",
       "\n",
       "    this.ondownload = ondownload;\n",
       "};\n",
       "\n",
       "mpl.figure.prototype._init_header = function () {\n",
       "    var titlebar = document.createElement('div');\n",
       "    titlebar.classList =\n",
       "        'ui-dialog-titlebar ui-widget-header ui-corner-all ui-helper-clearfix';\n",
       "    var titletext = document.createElement('div');\n",
       "    titletext.classList = 'ui-dialog-title';\n",
       "    titletext.setAttribute(\n",
       "        'style',\n",
       "        'width: 100%; text-align: center; padding: 3px;'\n",
       "    );\n",
       "    titlebar.appendChild(titletext);\n",
       "    this.root.appendChild(titlebar);\n",
       "    this.header = titletext;\n",
       "};\n",
       "\n",
       "mpl.figure.prototype._canvas_extra_style = function (_canvas_div) {};\n",
       "\n",
       "mpl.figure.prototype._root_extra_style = function (_canvas_div) {};\n",
       "\n",
       "mpl.figure.prototype._init_canvas = function () {\n",
       "    var fig = this;\n",
       "\n",
       "    var canvas_div = (this.canvas_div = document.createElement('div'));\n",
       "    canvas_div.setAttribute(\n",
       "        'style',\n",
       "        'border: 1px solid #ddd;' +\n",
       "            'box-sizing: content-box;' +\n",
       "            'clear: both;' +\n",
       "            'min-height: 1px;' +\n",
       "            'min-width: 1px;' +\n",
       "            'outline: 0;' +\n",
       "            'overflow: hidden;' +\n",
       "            'position: relative;' +\n",
       "            'resize: both;'\n",
       "    );\n",
       "\n",
       "    function on_keyboard_event_closure(name) {\n",
       "        return function (event) {\n",
       "            return fig.key_event(event, name);\n",
       "        };\n",
       "    }\n",
       "\n",
       "    canvas_div.addEventListener(\n",
       "        'keydown',\n",
       "        on_keyboard_event_closure('key_press')\n",
       "    );\n",
       "    canvas_div.addEventListener(\n",
       "        'keyup',\n",
       "        on_keyboard_event_closure('key_release')\n",
       "    );\n",
       "\n",
       "    this._canvas_extra_style(canvas_div);\n",
       "    this.root.appendChild(canvas_div);\n",
       "\n",
       "    var canvas = (this.canvas = document.createElement('canvas'));\n",
       "    canvas.classList.add('mpl-canvas');\n",
       "    canvas.setAttribute('style', 'box-sizing: content-box;');\n",
       "\n",
       "    this.context = canvas.getContext('2d');\n",
       "\n",
       "    var backingStore =\n",
       "        this.context.backingStorePixelRatio ||\n",
       "        this.context.webkitBackingStorePixelRatio ||\n",
       "        this.context.mozBackingStorePixelRatio ||\n",
       "        this.context.msBackingStorePixelRatio ||\n",
       "        this.context.oBackingStorePixelRatio ||\n",
       "        this.context.backingStorePixelRatio ||\n",
       "        1;\n",
       "\n",
       "    this.ratio = (window.devicePixelRatio || 1) / backingStore;\n",
       "\n",
       "    var rubberband_canvas = (this.rubberband_canvas = document.createElement(\n",
       "        'canvas'\n",
       "    ));\n",
       "    rubberband_canvas.setAttribute(\n",
       "        'style',\n",
       "        'box-sizing: content-box; position: absolute; left: 0; top: 0; z-index: 1;'\n",
       "    );\n",
       "\n",
       "    // Apply a ponyfill if ResizeObserver is not implemented by browser.\n",
       "    if (this.ResizeObserver === undefined) {\n",
       "        if (window.ResizeObserver !== undefined) {\n",
       "            this.ResizeObserver = window.ResizeObserver;\n",
       "        } else {\n",
       "            var obs = _JSXTOOLS_RESIZE_OBSERVER({});\n",
       "            this.ResizeObserver = obs.ResizeObserver;\n",
       "        }\n",
       "    }\n",
       "\n",
       "    this.resizeObserverInstance = new this.ResizeObserver(function (entries) {\n",
       "        var nentries = entries.length;\n",
       "        for (var i = 0; i < nentries; i++) {\n",
       "            var entry = entries[i];\n",
       "            var width, height;\n",
       "            if (entry.contentBoxSize) {\n",
       "                if (entry.contentBoxSize instanceof Array) {\n",
       "                    // Chrome 84 implements new version of spec.\n",
       "                    width = entry.contentBoxSize[0].inlineSize;\n",
       "                    height = entry.contentBoxSize[0].blockSize;\n",
       "                } else {\n",
       "                    // Firefox implements old version of spec.\n",
       "                    width = entry.contentBoxSize.inlineSize;\n",
       "                    height = entry.contentBoxSize.blockSize;\n",
       "                }\n",
       "            } else {\n",
       "                // Chrome <84 implements even older version of spec.\n",
       "                width = entry.contentRect.width;\n",
       "                height = entry.contentRect.height;\n",
       "            }\n",
       "\n",
       "            // Keep the size of the canvas and rubber band canvas in sync with\n",
       "            // the canvas container.\n",
       "            if (entry.devicePixelContentBoxSize) {\n",
       "                // Chrome 84 implements new version of spec.\n",
       "                canvas.setAttribute(\n",
       "                    'width',\n",
       "                    entry.devicePixelContentBoxSize[0].inlineSize\n",
       "                );\n",
       "                canvas.setAttribute(\n",
       "                    'height',\n",
       "                    entry.devicePixelContentBoxSize[0].blockSize\n",
       "                );\n",
       "            } else {\n",
       "                canvas.setAttribute('width', width * fig.ratio);\n",
       "                canvas.setAttribute('height', height * fig.ratio);\n",
       "            }\n",
       "            canvas.setAttribute(\n",
       "                'style',\n",
       "                'width: ' + width + 'px; height: ' + height + 'px;'\n",
       "            );\n",
       "\n",
       "            rubberband_canvas.setAttribute('width', width);\n",
       "            rubberband_canvas.setAttribute('height', height);\n",
       "\n",
       "            // And update the size in Python. We ignore the initial 0/0 size\n",
       "            // that occurs as the element is placed into the DOM, which should\n",
       "            // otherwise not happen due to the minimum size styling.\n",
       "            if (fig.ws.readyState == 1 && width != 0 && height != 0) {\n",
       "                fig.request_resize(width, height);\n",
       "            }\n",
       "        }\n",
       "    });\n",
       "    this.resizeObserverInstance.observe(canvas_div);\n",
       "\n",
       "    function on_mouse_event_closure(name) {\n",
       "        return function (event) {\n",
       "            return fig.mouse_event(event, name);\n",
       "        };\n",
       "    }\n",
       "\n",
       "    rubberband_canvas.addEventListener(\n",
       "        'mousedown',\n",
       "        on_mouse_event_closure('button_press')\n",
       "    );\n",
       "    rubberband_canvas.addEventListener(\n",
       "        'mouseup',\n",
       "        on_mouse_event_closure('button_release')\n",
       "    );\n",
       "    rubberband_canvas.addEventListener(\n",
       "        'dblclick',\n",
       "        on_mouse_event_closure('dblclick')\n",
       "    );\n",
       "    // Throttle sequential mouse events to 1 every 20ms.\n",
       "    rubberband_canvas.addEventListener(\n",
       "        'mousemove',\n",
       "        on_mouse_event_closure('motion_notify')\n",
       "    );\n",
       "\n",
       "    rubberband_canvas.addEventListener(\n",
       "        'mouseenter',\n",
       "        on_mouse_event_closure('figure_enter')\n",
       "    );\n",
       "    rubberband_canvas.addEventListener(\n",
       "        'mouseleave',\n",
       "        on_mouse_event_closure('figure_leave')\n",
       "    );\n",
       "\n",
       "    canvas_div.addEventListener('wheel', function (event) {\n",
       "        if (event.deltaY < 0) {\n",
       "            event.step = 1;\n",
       "        } else {\n",
       "            event.step = -1;\n",
       "        }\n",
       "        on_mouse_event_closure('scroll')(event);\n",
       "    });\n",
       "\n",
       "    canvas_div.appendChild(canvas);\n",
       "    canvas_div.appendChild(rubberband_canvas);\n",
       "\n",
       "    this.rubberband_context = rubberband_canvas.getContext('2d');\n",
       "    this.rubberband_context.strokeStyle = '#000000';\n",
       "\n",
       "    this._resize_canvas = function (width, height, forward) {\n",
       "        if (forward) {\n",
       "            canvas_div.style.width = width + 'px';\n",
       "            canvas_div.style.height = height + 'px';\n",
       "        }\n",
       "    };\n",
       "\n",
       "    // Disable right mouse context menu.\n",
       "    this.rubberband_canvas.addEventListener('contextmenu', function (_e) {\n",
       "        event.preventDefault();\n",
       "        return false;\n",
       "    });\n",
       "\n",
       "    function set_focus() {\n",
       "        canvas.focus();\n",
       "        canvas_div.focus();\n",
       "    }\n",
       "\n",
       "    window.setTimeout(set_focus, 100);\n",
       "};\n",
       "\n",
       "mpl.figure.prototype._init_toolbar = function () {\n",
       "    var fig = this;\n",
       "\n",
       "    var toolbar = document.createElement('div');\n",
       "    toolbar.classList = 'mpl-toolbar';\n",
       "    this.root.appendChild(toolbar);\n",
       "\n",
       "    function on_click_closure(name) {\n",
       "        return function (_event) {\n",
       "            return fig.toolbar_button_onclick(name);\n",
       "        };\n",
       "    }\n",
       "\n",
       "    function on_mouseover_closure(tooltip) {\n",
       "        return function (event) {\n",
       "            if (!event.currentTarget.disabled) {\n",
       "                return fig.toolbar_button_onmouseover(tooltip);\n",
       "            }\n",
       "        };\n",
       "    }\n",
       "\n",
       "    fig.buttons = {};\n",
       "    var buttonGroup = document.createElement('div');\n",
       "    buttonGroup.classList = 'mpl-button-group';\n",
       "    for (var toolbar_ind in mpl.toolbar_items) {\n",
       "        var name = mpl.toolbar_items[toolbar_ind][0];\n",
       "        var tooltip = mpl.toolbar_items[toolbar_ind][1];\n",
       "        var image = mpl.toolbar_items[toolbar_ind][2];\n",
       "        var method_name = mpl.toolbar_items[toolbar_ind][3];\n",
       "\n",
       "        if (!name) {\n",
       "            /* Instead of a spacer, we start a new button group. */\n",
       "            if (buttonGroup.hasChildNodes()) {\n",
       "                toolbar.appendChild(buttonGroup);\n",
       "            }\n",
       "            buttonGroup = document.createElement('div');\n",
       "            buttonGroup.classList = 'mpl-button-group';\n",
       "            continue;\n",
       "        }\n",
       "\n",
       "        var button = (fig.buttons[name] = document.createElement('button'));\n",
       "        button.classList = 'mpl-widget';\n",
       "        button.setAttribute('role', 'button');\n",
       "        button.setAttribute('aria-disabled', 'false');\n",
       "        button.addEventListener('click', on_click_closure(method_name));\n",
       "        button.addEventListener('mouseover', on_mouseover_closure(tooltip));\n",
       "\n",
       "        var icon_img = document.createElement('img');\n",
       "        icon_img.src = '_images/' + image + '.png';\n",
       "        icon_img.srcset = '_images/' + image + '_large.png 2x';\n",
       "        icon_img.alt = tooltip;\n",
       "        button.appendChild(icon_img);\n",
       "\n",
       "        buttonGroup.appendChild(button);\n",
       "    }\n",
       "\n",
       "    if (buttonGroup.hasChildNodes()) {\n",
       "        toolbar.appendChild(buttonGroup);\n",
       "    }\n",
       "\n",
       "    var fmt_picker = document.createElement('select');\n",
       "    fmt_picker.classList = 'mpl-widget';\n",
       "    toolbar.appendChild(fmt_picker);\n",
       "    this.format_dropdown = fmt_picker;\n",
       "\n",
       "    for (var ind in mpl.extensions) {\n",
       "        var fmt = mpl.extensions[ind];\n",
       "        var option = document.createElement('option');\n",
       "        option.selected = fmt === mpl.default_extension;\n",
       "        option.innerHTML = fmt;\n",
       "        fmt_picker.appendChild(option);\n",
       "    }\n",
       "\n",
       "    var status_bar = document.createElement('span');\n",
       "    status_bar.classList = 'mpl-message';\n",
       "    toolbar.appendChild(status_bar);\n",
       "    this.message = status_bar;\n",
       "};\n",
       "\n",
       "mpl.figure.prototype.request_resize = function (x_pixels, y_pixels) {\n",
       "    // Request matplotlib to resize the figure. Matplotlib will then trigger a resize in the client,\n",
       "    // which will in turn request a refresh of the image.\n",
       "    this.send_message('resize', { width: x_pixels, height: y_pixels });\n",
       "};\n",
       "\n",
       "mpl.figure.prototype.send_message = function (type, properties) {\n",
       "    properties['type'] = type;\n",
       "    properties['figure_id'] = this.id;\n",
       "    this.ws.send(JSON.stringify(properties));\n",
       "};\n",
       "\n",
       "mpl.figure.prototype.send_draw_message = function () {\n",
       "    if (!this.waiting) {\n",
       "        this.waiting = true;\n",
       "        this.ws.send(JSON.stringify({ type: 'draw', figure_id: this.id }));\n",
       "    }\n",
       "};\n",
       "\n",
       "mpl.figure.prototype.handle_save = function (fig, _msg) {\n",
       "    var format_dropdown = fig.format_dropdown;\n",
       "    var format = format_dropdown.options[format_dropdown.selectedIndex].value;\n",
       "    fig.ondownload(fig, format);\n",
       "};\n",
       "\n",
       "mpl.figure.prototype.handle_resize = function (fig, msg) {\n",
       "    var size = msg['size'];\n",
       "    if (size[0] !== fig.canvas.width || size[1] !== fig.canvas.height) {\n",
       "        fig._resize_canvas(size[0], size[1], msg['forward']);\n",
       "        fig.send_message('refresh', {});\n",
       "    }\n",
       "};\n",
       "\n",
       "mpl.figure.prototype.handle_rubberband = function (fig, msg) {\n",
       "    var x0 = msg['x0'] / fig.ratio;\n",
       "    var y0 = (fig.canvas.height - msg['y0']) / fig.ratio;\n",
       "    var x1 = msg['x1'] / fig.ratio;\n",
       "    var y1 = (fig.canvas.height - msg['y1']) / fig.ratio;\n",
       "    x0 = Math.floor(x0) + 0.5;\n",
       "    y0 = Math.floor(y0) + 0.5;\n",
       "    x1 = Math.floor(x1) + 0.5;\n",
       "    y1 = Math.floor(y1) + 0.5;\n",
       "    var min_x = Math.min(x0, x1);\n",
       "    var min_y = Math.min(y0, y1);\n",
       "    var width = Math.abs(x1 - x0);\n",
       "    var height = Math.abs(y1 - y0);\n",
       "\n",
       "    fig.rubberband_context.clearRect(\n",
       "        0,\n",
       "        0,\n",
       "        fig.canvas.width / fig.ratio,\n",
       "        fig.canvas.height / fig.ratio\n",
       "    );\n",
       "\n",
       "    fig.rubberband_context.strokeRect(min_x, min_y, width, height);\n",
       "};\n",
       "\n",
       "mpl.figure.prototype.handle_figure_label = function (fig, msg) {\n",
       "    // Updates the figure title.\n",
       "    fig.header.textContent = msg['label'];\n",
       "};\n",
       "\n",
       "mpl.figure.prototype.handle_cursor = function (fig, msg) {\n",
       "    var cursor = msg['cursor'];\n",
       "    switch (cursor) {\n",
       "        case 0:\n",
       "            cursor = 'pointer';\n",
       "            break;\n",
       "        case 1:\n",
       "            cursor = 'default';\n",
       "            break;\n",
       "        case 2:\n",
       "            cursor = 'crosshair';\n",
       "            break;\n",
       "        case 3:\n",
       "            cursor = 'move';\n",
       "            break;\n",
       "    }\n",
       "    fig.rubberband_canvas.style.cursor = cursor;\n",
       "};\n",
       "\n",
       "mpl.figure.prototype.handle_message = function (fig, msg) {\n",
       "    fig.message.textContent = msg['message'];\n",
       "};\n",
       "\n",
       "mpl.figure.prototype.handle_draw = function (fig, _msg) {\n",
       "    // Request the server to send over a new figure.\n",
       "    fig.send_draw_message();\n",
       "};\n",
       "\n",
       "mpl.figure.prototype.handle_image_mode = function (fig, msg) {\n",
       "    fig.image_mode = msg['mode'];\n",
       "};\n",
       "\n",
       "mpl.figure.prototype.handle_history_buttons = function (fig, msg) {\n",
       "    for (var key in msg) {\n",
       "        if (!(key in fig.buttons)) {\n",
       "            continue;\n",
       "        }\n",
       "        fig.buttons[key].disabled = !msg[key];\n",
       "        fig.buttons[key].setAttribute('aria-disabled', !msg[key]);\n",
       "    }\n",
       "};\n",
       "\n",
       "mpl.figure.prototype.handle_navigate_mode = function (fig, msg) {\n",
       "    if (msg['mode'] === 'PAN') {\n",
       "        fig.buttons['Pan'].classList.add('active');\n",
       "        fig.buttons['Zoom'].classList.remove('active');\n",
       "    } else if (msg['mode'] === 'ZOOM') {\n",
       "        fig.buttons['Pan'].classList.remove('active');\n",
       "        fig.buttons['Zoom'].classList.add('active');\n",
       "    } else {\n",
       "        fig.buttons['Pan'].classList.remove('active');\n",
       "        fig.buttons['Zoom'].classList.remove('active');\n",
       "    }\n",
       "};\n",
       "\n",
       "mpl.figure.prototype.updated_canvas_event = function () {\n",
       "    // Called whenever the canvas gets updated.\n",
       "    this.send_message('ack', {});\n",
       "};\n",
       "\n",
       "// A function to construct a web socket function for onmessage handling.\n",
       "// Called in the figure constructor.\n",
       "mpl.figure.prototype._make_on_message_function = function (fig) {\n",
       "    return function socket_on_message(evt) {\n",
       "        if (evt.data instanceof Blob) {\n",
       "            var img = evt.data;\n",
       "            if (img.type !== 'image/png') {\n",
       "                /* FIXME: We get \"Resource interpreted as Image but\n",
       "                 * transferred with MIME type text/plain:\" errors on\n",
       "                 * Chrome.  But how to set the MIME type?  It doesn't seem\n",
       "                 * to be part of the websocket stream */\n",
       "                img.type = 'image/png';\n",
       "            }\n",
       "\n",
       "            /* Free the memory for the previous frames */\n",
       "            if (fig.imageObj.src) {\n",
       "                (window.URL || window.webkitURL).revokeObjectURL(\n",
       "                    fig.imageObj.src\n",
       "                );\n",
       "            }\n",
       "\n",
       "            fig.imageObj.src = (window.URL || window.webkitURL).createObjectURL(\n",
       "                img\n",
       "            );\n",
       "            fig.updated_canvas_event();\n",
       "            fig.waiting = false;\n",
       "            return;\n",
       "        } else if (\n",
       "            typeof evt.data === 'string' &&\n",
       "            evt.data.slice(0, 21) === 'data:image/png;base64'\n",
       "        ) {\n",
       "            fig.imageObj.src = evt.data;\n",
       "            fig.updated_canvas_event();\n",
       "            fig.waiting = false;\n",
       "            return;\n",
       "        }\n",
       "\n",
       "        var msg = JSON.parse(evt.data);\n",
       "        var msg_type = msg['type'];\n",
       "\n",
       "        // Call the  \"handle_{type}\" callback, which takes\n",
       "        // the figure and JSON message as its only arguments.\n",
       "        try {\n",
       "            var callback = fig['handle_' + msg_type];\n",
       "        } catch (e) {\n",
       "            console.log(\n",
       "                \"No handler for the '\" + msg_type + \"' message type: \",\n",
       "                msg\n",
       "            );\n",
       "            return;\n",
       "        }\n",
       "\n",
       "        if (callback) {\n",
       "            try {\n",
       "                // console.log(\"Handling '\" + msg_type + \"' message: \", msg);\n",
       "                callback(fig, msg);\n",
       "            } catch (e) {\n",
       "                console.log(\n",
       "                    \"Exception inside the 'handler_\" + msg_type + \"' callback:\",\n",
       "                    e,\n",
       "                    e.stack,\n",
       "                    msg\n",
       "                );\n",
       "            }\n",
       "        }\n",
       "    };\n",
       "};\n",
       "\n",
       "// from http://stackoverflow.com/questions/1114465/getting-mouse-location-in-canvas\n",
       "mpl.findpos = function (e) {\n",
       "    //this section is from http://www.quirksmode.org/js/events_properties.html\n",
       "    var targ;\n",
       "    if (!e) {\n",
       "        e = window.event;\n",
       "    }\n",
       "    if (e.target) {\n",
       "        targ = e.target;\n",
       "    } else if (e.srcElement) {\n",
       "        targ = e.srcElement;\n",
       "    }\n",
       "    if (targ.nodeType === 3) {\n",
       "        // defeat Safari bug\n",
       "        targ = targ.parentNode;\n",
       "    }\n",
       "\n",
       "    // pageX,Y are the mouse positions relative to the document\n",
       "    var boundingRect = targ.getBoundingClientRect();\n",
       "    var x = e.pageX - (boundingRect.left + document.body.scrollLeft);\n",
       "    var y = e.pageY - (boundingRect.top + document.body.scrollTop);\n",
       "\n",
       "    return { x: x, y: y };\n",
       "};\n",
       "\n",
       "/*\n",
       " * return a copy of an object with only non-object keys\n",
       " * we need this to avoid circular references\n",
       " * http://stackoverflow.com/a/24161582/3208463\n",
       " */\n",
       "function simpleKeys(original) {\n",
       "    return Object.keys(original).reduce(function (obj, key) {\n",
       "        if (typeof original[key] !== 'object') {\n",
       "            obj[key] = original[key];\n",
       "        }\n",
       "        return obj;\n",
       "    }, {});\n",
       "}\n",
       "\n",
       "mpl.figure.prototype.mouse_event = function (event, name) {\n",
       "    var canvas_pos = mpl.findpos(event);\n",
       "\n",
       "    if (name === 'button_press') {\n",
       "        this.canvas.focus();\n",
       "        this.canvas_div.focus();\n",
       "    }\n",
       "\n",
       "    var x = canvas_pos.x * this.ratio;\n",
       "    var y = canvas_pos.y * this.ratio;\n",
       "\n",
       "    this.send_message(name, {\n",
       "        x: x,\n",
       "        y: y,\n",
       "        button: event.button,\n",
       "        step: event.step,\n",
       "        guiEvent: simpleKeys(event),\n",
       "    });\n",
       "\n",
       "    /* This prevents the web browser from automatically changing to\n",
       "     * the text insertion cursor when the button is pressed.  We want\n",
       "     * to control all of the cursor setting manually through the\n",
       "     * 'cursor' event from matplotlib */\n",
       "    event.preventDefault();\n",
       "    return false;\n",
       "};\n",
       "\n",
       "mpl.figure.prototype._key_event_extra = function (_event, _name) {\n",
       "    // Handle any extra behaviour associated with a key event\n",
       "};\n",
       "\n",
       "mpl.figure.prototype.key_event = function (event, name) {\n",
       "    // Prevent repeat events\n",
       "    if (name === 'key_press') {\n",
       "        if (event.key === this._key) {\n",
       "            return;\n",
       "        } else {\n",
       "            this._key = event.key;\n",
       "        }\n",
       "    }\n",
       "    if (name === 'key_release') {\n",
       "        this._key = null;\n",
       "    }\n",
       "\n",
       "    var value = '';\n",
       "    if (event.ctrlKey && event.key !== 'Control') {\n",
       "        value += 'ctrl+';\n",
       "    }\n",
       "    else if (event.altKey && event.key !== 'Alt') {\n",
       "        value += 'alt+';\n",
       "    }\n",
       "    else if (event.shiftKey && event.key !== 'Shift') {\n",
       "        value += 'shift+';\n",
       "    }\n",
       "\n",
       "    value += 'k' + event.key;\n",
       "\n",
       "    this._key_event_extra(event, name);\n",
       "\n",
       "    this.send_message(name, { key: value, guiEvent: simpleKeys(event) });\n",
       "    return false;\n",
       "};\n",
       "\n",
       "mpl.figure.prototype.toolbar_button_onclick = function (name) {\n",
       "    if (name === 'download') {\n",
       "        this.handle_save(this, null);\n",
       "    } else {\n",
       "        this.send_message('toolbar_button', { name: name });\n",
       "    }\n",
       "};\n",
       "\n",
       "mpl.figure.prototype.toolbar_button_onmouseover = function (tooltip) {\n",
       "    this.message.textContent = tooltip;\n",
       "};\n",
       "\n",
       "///////////////// REMAINING CONTENT GENERATED BY embed_js.py /////////////////\n",
       "// prettier-ignore\n",
       "var _JSXTOOLS_RESIZE_OBSERVER=function(A){var t,i=new WeakMap,n=new WeakMap,a=new WeakMap,r=new WeakMap,o=new Set;function s(e){if(!(this instanceof s))throw new TypeError(\"Constructor requires 'new' operator\");i.set(this,e)}function h(){throw new TypeError(\"Function is not a constructor\")}function c(e,t,i,n){e=0 in arguments?Number(arguments[0]):0,t=1 in arguments?Number(arguments[1]):0,i=2 in arguments?Number(arguments[2]):0,n=3 in arguments?Number(arguments[3]):0,this.right=(this.x=this.left=e)+(this.width=i),this.bottom=(this.y=this.top=t)+(this.height=n),Object.freeze(this)}function d(){t=requestAnimationFrame(d);var s=new WeakMap,p=new Set;o.forEach((function(t){r.get(t).forEach((function(i){var r=t instanceof window.SVGElement,o=a.get(t),d=r?0:parseFloat(o.paddingTop),f=r?0:parseFloat(o.paddingRight),l=r?0:parseFloat(o.paddingBottom),u=r?0:parseFloat(o.paddingLeft),g=r?0:parseFloat(o.borderTopWidth),m=r?0:parseFloat(o.borderRightWidth),w=r?0:parseFloat(o.borderBottomWidth),b=u+f,F=d+l,v=(r?0:parseFloat(o.borderLeftWidth))+m,W=g+w,y=r?0:t.offsetHeight-W-t.clientHeight,E=r?0:t.offsetWidth-v-t.clientWidth,R=b+v,z=F+W,M=r?t.width:parseFloat(o.width)-R-E,O=r?t.height:parseFloat(o.height)-z-y;if(n.has(t)){var k=n.get(t);if(k[0]===M&&k[1]===O)return}n.set(t,[M,O]);var S=Object.create(h.prototype);S.target=t,S.contentRect=new c(u,d,M,O),s.has(i)||(s.set(i,[]),p.add(i)),s.get(i).push(S)}))})),p.forEach((function(e){i.get(e).call(e,s.get(e),e)}))}return s.prototype.observe=function(i){if(i instanceof window.Element){r.has(i)||(r.set(i,new Set),o.add(i),a.set(i,window.getComputedStyle(i)));var n=r.get(i);n.has(this)||n.add(this),cancelAnimationFrame(t),t=requestAnimationFrame(d)}},s.prototype.unobserve=function(i){if(i instanceof window.Element&&r.has(i)){var n=r.get(i);n.has(this)&&(n.delete(this),n.size||(r.delete(i),o.delete(i))),n.size||r.delete(i),o.size||cancelAnimationFrame(t)}},A.DOMRectReadOnly=c,A.ResizeObserver=s,A.ResizeObserverEntry=h,A}; // eslint-disable-line\n",
       "mpl.toolbar_items = [[\"Home\", \"Reset original view\", \"fa fa-home icon-home\", \"home\"], [\"Back\", \"Back to previous view\", \"fa fa-arrow-left icon-arrow-left\", \"back\"], [\"Forward\", \"Forward to next view\", \"fa fa-arrow-right icon-arrow-right\", \"forward\"], [\"\", \"\", \"\", \"\"], [\"Pan\", \"Left button pans, Right button zooms\\nx/y fixes axis, CTRL fixes aspect\", \"fa fa-arrows icon-move\", \"pan\"], [\"Zoom\", \"Zoom to rectangle\\nx/y fixes axis, CTRL fixes aspect\", \"fa fa-square-o icon-check-empty\", \"zoom\"], [\"\", \"\", \"\", \"\"], [\"Download\", \"Download plot\", \"fa fa-floppy-o icon-save\", \"download\"]];\n",
       "\n",
       "mpl.extensions = [\"eps\", \"jpeg\", \"pgf\", \"pdf\", \"png\", \"ps\", \"raw\", \"svg\", \"tif\"];\n",
       "\n",
       "mpl.default_extension = \"png\";/* global mpl */\n",
       "\n",
       "var comm_websocket_adapter = function (comm) {\n",
       "    // Create a \"websocket\"-like object which calls the given IPython comm\n",
       "    // object with the appropriate methods. Currently this is a non binary\n",
       "    // socket, so there is still some room for performance tuning.\n",
       "    var ws = {};\n",
       "\n",
       "    ws.binaryType = comm.kernel.ws.binaryType;\n",
       "    ws.readyState = comm.kernel.ws.readyState;\n",
       "    function updateReadyState(_event) {\n",
       "        if (comm.kernel.ws) {\n",
       "            ws.readyState = comm.kernel.ws.readyState;\n",
       "        } else {\n",
       "            ws.readyState = 3; // Closed state.\n",
       "        }\n",
       "    }\n",
       "    comm.kernel.ws.addEventListener('open', updateReadyState);\n",
       "    comm.kernel.ws.addEventListener('close', updateReadyState);\n",
       "    comm.kernel.ws.addEventListener('error', updateReadyState);\n",
       "\n",
       "    ws.close = function () {\n",
       "        comm.close();\n",
       "    };\n",
       "    ws.send = function (m) {\n",
       "        //console.log('sending', m);\n",
       "        comm.send(m);\n",
       "    };\n",
       "    // Register the callback with on_msg.\n",
       "    comm.on_msg(function (msg) {\n",
       "        //console.log('receiving', msg['content']['data'], msg);\n",
       "        var data = msg['content']['data'];\n",
       "        if (data['blob'] !== undefined) {\n",
       "            data = {\n",
       "                data: new Blob(msg['buffers'], { type: data['blob'] }),\n",
       "            };\n",
       "        }\n",
       "        // Pass the mpl event to the overridden (by mpl) onmessage function.\n",
       "        ws.onmessage(data);\n",
       "    });\n",
       "    return ws;\n",
       "};\n",
       "\n",
       "mpl.mpl_figure_comm = function (comm, msg) {\n",
       "    // This is the function which gets called when the mpl process\n",
       "    // starts-up an IPython Comm through the \"matplotlib\" channel.\n",
       "\n",
       "    var id = msg.content.data.id;\n",
       "    // Get hold of the div created by the display call when the Comm\n",
       "    // socket was opened in Python.\n",
       "    var element = document.getElementById(id);\n",
       "    var ws_proxy = comm_websocket_adapter(comm);\n",
       "\n",
       "    function ondownload(figure, _format) {\n",
       "        window.open(figure.canvas.toDataURL());\n",
       "    }\n",
       "\n",
       "    var fig = new mpl.figure(id, ws_proxy, ondownload, element);\n",
       "\n",
       "    // Call onopen now - mpl needs it, as it is assuming we've passed it a real\n",
       "    // web socket which is closed, not our websocket->open comm proxy.\n",
       "    ws_proxy.onopen();\n",
       "\n",
       "    fig.parent_element = element;\n",
       "    fig.cell_info = mpl.find_output_cell(\"<div id='\" + id + \"'></div>\");\n",
       "    if (!fig.cell_info) {\n",
       "        console.error('Failed to find cell for figure', id, fig);\n",
       "        return;\n",
       "    }\n",
       "    fig.cell_info[0].output_area.element.on(\n",
       "        'cleared',\n",
       "        { fig: fig },\n",
       "        fig._remove_fig_handler\n",
       "    );\n",
       "};\n",
       "\n",
       "mpl.figure.prototype.handle_close = function (fig, msg) {\n",
       "    var width = fig.canvas.width / fig.ratio;\n",
       "    fig.cell_info[0].output_area.element.off(\n",
       "        'cleared',\n",
       "        fig._remove_fig_handler\n",
       "    );\n",
       "    fig.resizeObserverInstance.unobserve(fig.canvas_div);\n",
       "\n",
       "    // Update the output cell to use the data from the current canvas.\n",
       "    fig.push_to_output();\n",
       "    var dataURL = fig.canvas.toDataURL();\n",
       "    // Re-enable the keyboard manager in IPython - without this line, in FF,\n",
       "    // the notebook keyboard shortcuts fail.\n",
       "    IPython.keyboard_manager.enable();\n",
       "    fig.parent_element.innerHTML =\n",
       "        '<img src=\"' + dataURL + '\" width=\"' + width + '\">';\n",
       "    fig.close_ws(fig, msg);\n",
       "};\n",
       "\n",
       "mpl.figure.prototype.close_ws = function (fig, msg) {\n",
       "    fig.send_message('closing', msg);\n",
       "    // fig.ws.close()\n",
       "};\n",
       "\n",
       "mpl.figure.prototype.push_to_output = function (_remove_interactive) {\n",
       "    // Turn the data on the canvas into data in the output cell.\n",
       "    var width = this.canvas.width / this.ratio;\n",
       "    var dataURL = this.canvas.toDataURL();\n",
       "    this.cell_info[1]['text/html'] =\n",
       "        '<img src=\"' + dataURL + '\" width=\"' + width + '\">';\n",
       "};\n",
       "\n",
       "mpl.figure.prototype.updated_canvas_event = function () {\n",
       "    // Tell IPython that the notebook contents must change.\n",
       "    IPython.notebook.set_dirty(true);\n",
       "    this.send_message('ack', {});\n",
       "    var fig = this;\n",
       "    // Wait a second, then push the new image to the DOM so\n",
       "    // that it is saved nicely (might be nice to debounce this).\n",
       "    setTimeout(function () {\n",
       "        fig.push_to_output();\n",
       "    }, 1000);\n",
       "};\n",
       "\n",
       "mpl.figure.prototype._init_toolbar = function () {\n",
       "    var fig = this;\n",
       "\n",
       "    var toolbar = document.createElement('div');\n",
       "    toolbar.classList = 'btn-toolbar';\n",
       "    this.root.appendChild(toolbar);\n",
       "\n",
       "    function on_click_closure(name) {\n",
       "        return function (_event) {\n",
       "            return fig.toolbar_button_onclick(name);\n",
       "        };\n",
       "    }\n",
       "\n",
       "    function on_mouseover_closure(tooltip) {\n",
       "        return function (event) {\n",
       "            if (!event.currentTarget.disabled) {\n",
       "                return fig.toolbar_button_onmouseover(tooltip);\n",
       "            }\n",
       "        };\n",
       "    }\n",
       "\n",
       "    fig.buttons = {};\n",
       "    var buttonGroup = document.createElement('div');\n",
       "    buttonGroup.classList = 'btn-group';\n",
       "    var button;\n",
       "    for (var toolbar_ind in mpl.toolbar_items) {\n",
       "        var name = mpl.toolbar_items[toolbar_ind][0];\n",
       "        var tooltip = mpl.toolbar_items[toolbar_ind][1];\n",
       "        var image = mpl.toolbar_items[toolbar_ind][2];\n",
       "        var method_name = mpl.toolbar_items[toolbar_ind][3];\n",
       "\n",
       "        if (!name) {\n",
       "            /* Instead of a spacer, we start a new button group. */\n",
       "            if (buttonGroup.hasChildNodes()) {\n",
       "                toolbar.appendChild(buttonGroup);\n",
       "            }\n",
       "            buttonGroup = document.createElement('div');\n",
       "            buttonGroup.classList = 'btn-group';\n",
       "            continue;\n",
       "        }\n",
       "\n",
       "        button = fig.buttons[name] = document.createElement('button');\n",
       "        button.classList = 'btn btn-default';\n",
       "        button.href = '#';\n",
       "        button.title = name;\n",
       "        button.innerHTML = '<i class=\"fa ' + image + ' fa-lg\"></i>';\n",
       "        button.addEventListener('click', on_click_closure(method_name));\n",
       "        button.addEventListener('mouseover', on_mouseover_closure(tooltip));\n",
       "        buttonGroup.appendChild(button);\n",
       "    }\n",
       "\n",
       "    if (buttonGroup.hasChildNodes()) {\n",
       "        toolbar.appendChild(buttonGroup);\n",
       "    }\n",
       "\n",
       "    // Add the status bar.\n",
       "    var status_bar = document.createElement('span');\n",
       "    status_bar.classList = 'mpl-message pull-right';\n",
       "    toolbar.appendChild(status_bar);\n",
       "    this.message = status_bar;\n",
       "\n",
       "    // Add the close button to the window.\n",
       "    var buttongrp = document.createElement('div');\n",
       "    buttongrp.classList = 'btn-group inline pull-right';\n",
       "    button = document.createElement('button');\n",
       "    button.classList = 'btn btn-mini btn-primary';\n",
       "    button.href = '#';\n",
       "    button.title = 'Stop Interaction';\n",
       "    button.innerHTML = '<i class=\"fa fa-power-off icon-remove icon-large\"></i>';\n",
       "    button.addEventListener('click', function (_evt) {\n",
       "        fig.handle_close(fig, {});\n",
       "    });\n",
       "    button.addEventListener(\n",
       "        'mouseover',\n",
       "        on_mouseover_closure('Stop Interaction')\n",
       "    );\n",
       "    buttongrp.appendChild(button);\n",
       "    var titlebar = this.root.querySelector('.ui-dialog-titlebar');\n",
       "    titlebar.insertBefore(buttongrp, titlebar.firstChild);\n",
       "};\n",
       "\n",
       "mpl.figure.prototype._remove_fig_handler = function (event) {\n",
       "    var fig = event.data.fig;\n",
       "    if (event.target !== this) {\n",
       "        // Ignore bubbled events from children.\n",
       "        return;\n",
       "    }\n",
       "    fig.close_ws(fig, {});\n",
       "};\n",
       "\n",
       "mpl.figure.prototype._root_extra_style = function (el) {\n",
       "    el.style.boxSizing = 'content-box'; // override notebook setting of border-box.\n",
       "};\n",
       "\n",
       "mpl.figure.prototype._canvas_extra_style = function (el) {\n",
       "    // this is important to make the div 'focusable\n",
       "    el.setAttribute('tabindex', 0);\n",
       "    // reach out to IPython and tell the keyboard manager to turn it's self\n",
       "    // off when our div gets focus\n",
       "\n",
       "    // location in version 3\n",
       "    if (IPython.notebook.keyboard_manager) {\n",
       "        IPython.notebook.keyboard_manager.register_events(el);\n",
       "    } else {\n",
       "        // location in version 2\n",
       "        IPython.keyboard_manager.register_events(el);\n",
       "    }\n",
       "};\n",
       "\n",
       "mpl.figure.prototype._key_event_extra = function (event, _name) {\n",
       "    var manager = IPython.notebook.keyboard_manager;\n",
       "    if (!manager) {\n",
       "        manager = IPython.keyboard_manager;\n",
       "    }\n",
       "\n",
       "    // Check for shift+enter\n",
       "    if (event.shiftKey && event.which === 13) {\n",
       "        this.canvas_div.blur();\n",
       "        // select the cell after this one\n",
       "        var index = IPython.notebook.find_cell_index(this.cell_info[0]);\n",
       "        IPython.notebook.select(index + 1);\n",
       "    }\n",
       "};\n",
       "\n",
       "mpl.figure.prototype.handle_save = function (fig, _msg) {\n",
       "    fig.ondownload(fig, null);\n",
       "};\n",
       "\n",
       "mpl.find_output_cell = function (html_output) {\n",
       "    // Return the cell and output element which can be found *uniquely* in the notebook.\n",
       "    // Note - this is a bit hacky, but it is done because the \"notebook_saving.Notebook\"\n",
       "    // IPython event is triggered only after the cells have been serialised, which for\n",
       "    // our purposes (turning an active figure into a static one), is too late.\n",
       "    var cells = IPython.notebook.get_cells();\n",
       "    var ncells = cells.length;\n",
       "    for (var i = 0; i < ncells; i++) {\n",
       "        var cell = cells[i];\n",
       "        if (cell.cell_type === 'code') {\n",
       "            for (var j = 0; j < cell.output_area.outputs.length; j++) {\n",
       "                var data = cell.output_area.outputs[j];\n",
       "                if (data.data) {\n",
       "                    // IPython >= 3 moved mimebundle to data attribute of output\n",
       "                    data = data.data;\n",
       "                }\n",
       "                if (data['text/html'] === html_output) {\n",
       "                    return [cell, data, j];\n",
       "                }\n",
       "            }\n",
       "        }\n",
       "    }\n",
       "};\n",
       "\n",
       "// Register the function which deals with the matplotlib target/channel.\n",
       "// The kernel may be null if the page has been refreshed.\n",
       "if (IPython.notebook.kernel !== null) {\n",
       "    IPython.notebook.kernel.comm_manager.register_target(\n",
       "        'matplotlib',\n",
       "        mpl.mpl_figure_comm\n",
       "    );\n",
       "}\n"
      ],
      "text/plain": [
       "<IPython.core.display.Javascript object>"
      ]
     },
     "metadata": {},
     "output_type": "display_data"
    },
    {
     "data": {
      "text/html": [
       "<img src=\"data:image/png;base64,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\" width=\"1199.9166666666667\">"
      ],
      "text/plain": [
       "<IPython.core.display.HTML object>"
      ]
     },
     "metadata": {},
     "output_type": "display_data"
    }
   ],
   "source": [
    "# Вывод графика аналогового и цифрового сигнала\n",
    "plt.figure(figsize=[12, 4])                  # создание полотна размером шириной 8 X 4 дюйма\n",
    "t=np.linspace(0, N/fs, num=1024)            # создание массива времен t (1024 значения от 0 до N*fs)\n",
    "plt.plot(t, np.sin(2*np.pi*f0*t), 'g', label='аналоговый сигнал $x(t)$')        \n",
    "                                            # построение графика x(t) (точки соединяются линиями)\n",
    "\n",
    "plt.stem(k/fs, y, 'b', 'bo', label='цифровой сигнал $y[k]$')                \n",
    "                                            # построение графика функции дискретного времени y[k]\n",
    "                                            # k/fs - м\n",
    "    \n",
    "if num_levels<21:                           # если число уровней не велико, то производится\n",
    "    plt.yticks(bins)                        # установка делений шкалы оси Y, совпадающих с уровнями квантования\n",
    "\n",
    "plt.grid()                                  # сетка\n",
    "plt.xlabel(\"$t$, c\")                        # подпись оси X\n",
    "plt.ylabel(\"$x(t), y[k]$\")                  # подпись оси Y\n",
    "plt.title(\"Аналоговый и цифровой сигналы\")  # заголовок графика\n",
    "plt.legend(loc='best', bbox_to_anchor=(1, 1))\n",
    "plt.tight_layout()                          # автоматическая корректировка расположения осей графика"
   ]
  },
  {
   "cell_type": "code",
   "execution_count": 9,
   "metadata": {
    "colab": {
     "base_uri": "https://localhost:8080/",
     "height": 297
    },
    "id": "yDxbtXmjzA78",
    "outputId": "8850c977-1a9b-4df0-ebc0-8fdf1e709ee9"
   },
   "outputs": [
    {
     "data": {
      "image/png": "[encoded data removed]",
      "text/plain": [
       "<Figure size 864x288 with 1 Axes>"
      ]
     },
     "metadata": {
      "needs_background": "light"
     },
     "output_type": "display_data"
    }
   ],
   "source": [
    "plt.figure(figsize=[12, 4])\n",
    "plt.title(\"Ошибка квантования\") \n",
    "plt.plot(t, np.sin(2*np.pi*f0*t), 'g', label='аналоговый сигнал $x(t)$')\n",
    "plt.stem(k/fs, abs(x-y), 'm', 'mo', label=\"абсолютная ошибка \\nквантования \\n$\\\\epsilon[k]=|x[k]-y[k]|$\")       \n",
    "                                      #вывод абсолютных значений ошибки квантования для дискретного сигнала\n",
    "plt.yticks(bins)\n",
    "plt.grid()\n",
    "plt.xlabel(\"$t$, c\")                                          # подпись оси X\n",
    "plt.ylabel(\"$x(t), \\\\varepsilon[k]=|x[k]-y[k]|$\")             # подпись оси Y\n",
    "plt.legend(loc='best', bbox_to_anchor=(1, 1))\n",
    "plt.tight_layout() \n",
    "plt.show()"
   ]
  },
  {
   "cell_type": "markdown",
   "metadata": {
    "id": "919ZI8cWzA78"
   },
   "source": [
    "## Задача 1.2. Декодирование .wav файла"
   ]
  },
  {
   "cell_type": "code",
   "execution_count": 10,
   "metadata": {
    "id": "Qhmt3uE0zA79"
   },
   "outputs": [],
   "source": [
    "import numpy as np # импорт бибилиотеки numpy\n",
    "import matplotlib.pyplot as plt # импорт модуля matplotlib.pyplot\n",
    "import scipy.io.wavfile # импорт модуля scipy.io.wavfile"
   ]
  },
  {
   "cell_type": "markdown",
   "metadata": {
    "id": "fJgb7bJgTRDG"
   },
   "source": [
    "| Варианты: |       1      |     2     |         3        |      4     |        5        |        6       |         7        |       8      |        9       |     10    |        11       |     12     |\n",
    "|:---------:|:------------:|:---------:|:----------------:|:----------:|:---------------:|:--------------:|:----------------:|:------------:|:--------------:|:---------:|:---------------:|:----------:|\n",
    "| **Имя файла** | clarinet.wav | flute.wav | glockenspiel.wav | guitar.wav | tuning-fork.wav | vibraphone.wav | glockenspiel.wav | clarinet.wav | vibraphone.wav | flute.wav | tuning-fork.wav | guitar.wav |"
   ]
  },
  {
   "cell_type": "markdown",
   "metadata": {
    "id": "gzhnOLjQzA79"
   },
   "source": [
    "Декодируйте .wav файл в соотвествии с Вашим вариантом из таблицы. \n",
    "\n",
    "1) Определите частоту дискретизации, битную глубину записи (соотвествует dtype) и соотвествующее ей колличество уровней квантования. \n",
    "\n",
    "2) Сравните растояние между отсчетами по оси времени на графике с частотой дискретизации.\n",
    "\n",
    "3) Поменяйте ось времени так, чтобы первому отсчету наблюдаемого диапазона соотвествовало время от начала файла.\n",
    "\n",
    "4) Определите длину записи в секундах.\n",
    "\n",
    "5) Оцените объем файла в килобайтах (КБ), при условии, что никакое дополнительное сжатие не производится (использовать данные о частоте дискретизации, числе отсчетов и битовой глубине). Сравние с реальным объемом файла. "
   ]
  },
  {
   "cell_type": "markdown",
   "metadata": {
    "id": "B1yFZJositg8"
   },
   "source": []
  },
  {
   "cell_type": "code",
   "execution_count": 11,
   "metadata": {
    "colab": {
     "base_uri": "https://localhost:8080/",
     "height": 75
    },
    "id": "JJeQWH7-zA79",
    "outputId": "23a39d94-c34c-4b2c-90b3-2cdbcda4fb89"
   },
   "outputs": [
    {
     "ename": "ValueError",
     "evalue": "rate must be specified when data is a numpy array or list of audio samples.",
     "output_type": "error",
     "traceback": [
      "\u001b[0;31m---------------------------------------------------------------------------\u001b[0m",
      "\u001b[0;31mValueError\u001b[0m                                Traceback (most recent call last)",
      "\u001b[0;32m<ipython-input-11-ef7e1b8bf0a7>\u001b[0m in \u001b[0;36m<module>\u001b[0;34m\u001b[0m\n\u001b[1;32m      1\u001b[0m \u001b[0;32mfrom\u001b[0m \u001b[0mIPython\u001b[0m\u001b[0;34m.\u001b[0m\u001b[0mdisplay\u001b[0m \u001b[0;32mimport\u001b[0m \u001b[0mAudio\u001b[0m\u001b[0;34m\u001b[0m\u001b[0;34m\u001b[0m\u001b[0m\n\u001b[0;32m----> 2\u001b[0;31m \u001b[0mAudio\u001b[0m\u001b[0;34m(\u001b[0m\u001b[0;34m'/content/sample_data/tuning-fork.wav'\u001b[0m\u001b[0;34m)\u001b[0m\u001b[0;34m\u001b[0m\u001b[0;34m\u001b[0m\u001b[0m\n\u001b[0m",
      "\u001b[0;32m~/anaconda3/lib/python3.8/site-packages/IPython/lib/display.py\u001b[0m in \u001b[0;36m__init__\u001b[0;34m(self, data, filename, url, embed, rate, autoplay, normalize, element_id)\u001b[0m\n\u001b[1;32m    114\u001b[0m         \u001b[0;32mif\u001b[0m \u001b[0mself\u001b[0m\u001b[0;34m.\u001b[0m\u001b[0mdata\u001b[0m \u001b[0;32mis\u001b[0m \u001b[0;32mnot\u001b[0m \u001b[0;32mNone\u001b[0m \u001b[0;32mand\u001b[0m \u001b[0;32mnot\u001b[0m \u001b[0misinstance\u001b[0m\u001b[0;34m(\u001b[0m\u001b[0mself\u001b[0m\u001b[0;34m.\u001b[0m\u001b[0mdata\u001b[0m\u001b[0;34m,\u001b[0m \u001b[0mbytes\u001b[0m\u001b[0;34m)\u001b[0m\u001b[0;34m:\u001b[0m\u001b[0;34m\u001b[0m\u001b[0;34m\u001b[0m\u001b[0m\n\u001b[1;32m    115\u001b[0m             \u001b[0;32mif\u001b[0m \u001b[0mrate\u001b[0m \u001b[0;32mis\u001b[0m \u001b[0;32mNone\u001b[0m\u001b[0;34m:\u001b[0m\u001b[0;34m\u001b[0m\u001b[0;34m\u001b[0m\u001b[0m\n\u001b[0;32m--> 116\u001b[0;31m                 \u001b[0;32mraise\u001b[0m \u001b[0mValueError\u001b[0m\u001b[0;34m(\u001b[0m\u001b[0;34m\"rate must be specified when data is a numpy array or list of audio samples.\"\u001b[0m\u001b[0;34m)\u001b[0m\u001b[0;34m\u001b[0m\u001b[0;34m\u001b[0m\u001b[0m\n\u001b[0m\u001b[1;32m    117\u001b[0m             \u001b[0mself\u001b[0m\u001b[0;34m.\u001b[0m\u001b[0mdata\u001b[0m \u001b[0;34m=\u001b[0m \u001b[0mAudio\u001b[0m\u001b[0;34m.\u001b[0m\u001b[0m_make_wav\u001b[0m\u001b[0;34m(\u001b[0m\u001b[0mdata\u001b[0m\u001b[0;34m,\u001b[0m \u001b[0mrate\u001b[0m\u001b[0;34m,\u001b[0m \u001b[0mnormalize\u001b[0m\u001b[0;34m)\u001b[0m\u001b[0;34m\u001b[0m\u001b[0;34m\u001b[0m\u001b[0m\n\u001b[1;32m    118\u001b[0m \u001b[0;34m\u001b[0m\u001b[0m\n",
      "\u001b[0;31mValueError\u001b[0m: rate must be specified when data is a numpy array or list of audio samples."
     ]
    }
   ],
   "source": [
    "from IPython.display import Audio\n",
    "Audio('/content/sample_data/tuning-fork.wav')"
   ]
  },
  {
   "cell_type": "code",
   "execution_count": null,
   "metadata": {
    "id": "wa6588LazA79"
   },
   "outputs": [],
   "source": [
    "fs, x = scipy.io.wavfile.read('/content/sample_data/tuning-fork.wav') # чтение аудиофайла "
   ]
  },
  {
   "cell_type": "code",
   "execution_count": null,
   "metadata": {
    "colab": {
     "base_uri": "https://localhost:8080/"
    },
    "id": "bnxBKTUvzA79",
    "outputId": "aac3be90-2453-4d5d-8665-44722405a909"
   },
   "outputs": [],
   "source": [
    "fs     #частота дискретизации в Гц"
   ]
  },
  {
   "cell_type": "code",
   "execution_count": null,
   "metadata": {
    "colab": {
     "base_uri": "https://localhost:8080/"
    },
    "id": "UG3vuh-0zA7-",
    "outputId": "12ecca64-9f27-4a0e-cb4a-0babcb15033d"
   },
   "outputs": [],
   "source": [
    "x      #массив значений x[k]"
   ]
  },
  {
   "cell_type": "code",
   "execution_count": null,
   "metadata": {
    "colab": {
     "base_uri": "https://localhost:8080/"
    },
    "id": "IvUiisSdzA7-",
    "outputId": "c62c6f16-a8ce-458b-f35c-ace8e17376d1"
   },
   "outputs": [],
   "source": [
    "x.size"
   ]
  },
  {
   "cell_type": "code",
   "execution_count": null,
   "metadata": {
    "colab": {
     "base_uri": "https://localhost:8080/",
     "height": 296
    },
    "id": "ZidEwVDBzA7-",
    "outputId": "72496d2d-5676-4afc-89f0-184b553ddaba"
   },
   "outputs": [],
   "source": [
    "x1=x[8000:10000]                     # выбор наблюдаемого диапазона\n",
    "k=np.arange(x1.size)               # отсчеты по времени\n",
    "# Построение графиков \n",
    "plt.figure(figsize=[16, 4])         # создание полотна размером шириной 8 X 4 дюйма\n",
    "plt.plot(k/fs, x1, 'b.')           # построение графика цифрового сигнала точками точками\n",
    "plt.grid()                             \n",
    "plt.xlabel(\"$t$, c\")                      \n",
    "plt.ylabel(\"$x[k]$\")             \n",
    "plt.tight_layout()"
   ]
  },
  {
   "cell_type": "markdown",
   "metadata": {
    "id": "gszbh-8szA7-"
   },
   "source": [
    "# Занятие 2. Спектры импульсных и периодических сигналов."
   ]
  },
  {
   "cell_type": "code",
   "execution_count": null,
   "metadata": {
    "id": "IgttQ95KzA7-"
   },
   "outputs": [],
   "source": [
    "import numpy as np # импорт бибилиотеки numpy\n",
    "import matplotlib.pyplot as plt # импорт модуля matplotlib.pyplot\n",
    "import scipy.integrate as integrate # импорт модуля численного интегрирования\n",
    "\n",
    "def integrate_function(t, func, f, tau, real_part=True):\n",
    "    # Подынтегральное выражение для использованиия в функции integrate.quad\n",
    "    # t - время\n",
    "    # func - функция, задающая импульс\n",
    "    # f - частота\n",
    "    # tau - константа, используемая для задания длительности импульса\n",
    "    if real_part:\n",
    "        return func(t, tau)*np.cos(-2*np.pi*f*t)  # действительная часть интеграла\n",
    "    else:\n",
    "        return func(t, tau)*np.sin(-2*np.pi*f*t)  # мнимая часть интеграла\n",
    "\n",
    "def fourier_transform(signal, f_band, tau, t1, t2, res_type='abs'):\n",
    "    # вычисление преобразования Фурье для набора частот\n",
    "    # signal - функция от t и tau, задающая сигнал во временной области \n",
    "    # f_band - набор частот, для которых вычисляется преобразование Фурье\n",
    "    # tau - константа, используемая для задания длительности импульса\n",
    "    # t1 момент начала сигнала\n",
    "    # t2 момент завершения сигнала\n",
    "    # тип возвращаемого значения:\n",
    "    # res_type='abs' - |X(f)|\n",
    "    # res_type='Re' - Re X(f)\n",
    "    # res_type='Im' - Im X(f)\n",
    "    if res_type==\"abs\":\n",
    "        Re=np.array([integrate.quad(integrate_function, t1, t2, args=(signal, f, tau, True))[0] for f in f_band])\n",
    "        Im=np.array([integrate.quad(integrate_function, t1, t2, args=(signal, f, tau, False))[0] for f in f_band])\n",
    "        return abs(Re+1j*Im)\n",
    "    elif res_type==\"Re\":\n",
    "        Re=np.array([integrate.quad(integrate_function, t1, t2, args=(signal, f, tau, True))[0] for f in f_band])\n",
    "        return Re\n",
    "    elif res_type==\"Im\":\n",
    "        Im=np.array([integrate.quad(integrate_function, t1, t2, args=(signal, f, tau, False))[0] for f in f_band])\n",
    "        return Im"
   ]
  },
  {
   "cell_type": "markdown",
   "metadata": {
    "id": "fTzdDOJmzA7_"
   },
   "source": [
    "## Задача 2.1. Спектры симметричных оконных функций"
   ]
  },
  {
   "cell_type": "markdown",
   "metadata": {
    "id": "dIfg1MAFdCgS"
   },
   "source": [
    "|  Варианты:  |  1  |  2  |   3  |   4  |  5  |   6  |  7  |   8  |   9  |  10 |  11  |  12  |\n",
    "|:-----------:|:---:|:---:|:----:|:----:|:---:|:----:|:---:|:----:|:----:|:---:|:----:|:----:|\n",
    "| $\\tau$**, мкс** | 100 | 500 | 1000 | 5000 | 400 | 2000 | 300 | 1500 | 3000 | 800 | 3500 | 4000 |\n"
   ]
  },
  {
   "cell_type": "markdown",
   "metadata": {
    "id": "3a37hANAzA7_"
   },
   "source": [
    "Ниже приведен пример вычисления модуля спектральной плотности $|X(f)|$ для прямоугольного окна длительностью $\\tau=150$ мкс. \n",
    "\n",
    "Для заданного параметра $\\tau$ из таблицы, построить графики модуля спектральной плотности $|X(f)|$ для прямоугольного окна, \n",
    "$$w_b(t)=\\left\\{ \\begin{matrix}\n",
    "   1, & \\text{ }\\text{если }|t|\\le \\tau /2,  \\\\\n",
    "   0, & \\text{ }\\text{если }|t|>\\tau /2; \\\\\n",
    "\\end{matrix} \\right.$$\n",
    "треугольного окна\n",
    "$$w_t(t)=\\left\\{ \\begin{matrix}\n",
    "   1-\\dfrac{|t|}{\\tau /2}, & \\text{ }\\text{если }|t|\\le \\tau /2,  \\\\\n",
    "   0, & \\text{ }\\text{если }|t|>\\tau /2.  \\\\\n",
    "\\end{matrix} \\right.$$\n",
    " и окна Ханна\n",
    "$$w_H(t)=\\left\\{ \\begin{matrix}\n",
    "   \\dfrac{1}{2}\\left( 1+\\cos \\left( 2\\pi \\dfrac{t}{\\tau } \\right) \\right), & \\text{ }\\text{если }|t|\\le \\tau /2,  \\\\\n",
    "   0, & \\text{ }\\text{если }|t|>\\tau /2.  \\\\\n",
    "\\end{matrix} \\right.$$\n",
    "\n",
    "\n",
    "\n",
    "Привести аналитические формулы спектральной плотности для этих импульсов. Заполнить таблицу для трех окон.\n",
    "![Таблица2.png](data:image/png;base64,iVBORw0KGgoAAAANSUhEUgAAAlMAAAChCAYAAADjhDrTAAAAAXNSR0IArs4c6QAAAARnQU1BAACxjwv8YQUAAAAJcEhZcwAADsMAAA7DAcdvqGQAABC6SURBVHhe7d0/erJKH8bxn+9aNEUuV6Ar0DRWtumw1CadZTobKWP3tFZpoiuIK/BKEdiL78wwICCgOMZEz/dzLs8T/g3DMMHbgSSNnSIAAAA4y//svwAAADgDYQoAAMABYQoAAMABYQoAAMABYQoAAMABYQoAAMABYQoAAMABYQoAAMABYQoAAMABYQoAAMBBrT8n02g07FcAAAD3qe5f2qsdpuruAL+H84VbRx8GcG3nXHe4zQcAAOCAMAUAAOCAMAUAAOCAMAUAAOCAMAUAAOCAMAUAAOCAMAUAAOCAMAUAAOCAMAUAAOCAMAUAAOCAMAUAAOCAMIX7E/rSbTTM31dqNLrih3Y+AAA/4K7C1HoUv4Ha12htl6BYKH5Xt9VI9i1VNO92hH5XGq2JbOy0t/qUcdNO4L7ZEN1N0vNaRpnrgO3bXV99BQCXcydhKrpI9heerHY789eed8FcOos+F85KTRlPPfXvQl7jN6DwQ5Y6iXgD6UVzbshaZpONdOZB1AfU6+32DgIAcGPuI0ytZ6LeQ9Wb6Ms+ADTHYnLCZikfOidkPrWmPqHmP82uR2ZUK/owaz/ZJq94tCb/ifeG9V5k3lHNNJmZYws/lqLiiMxfVEuatumK70dtcjDaZ9sqfiVtmLnNFr2SzTLbpG7BVZ2H/LIy63cVCzvS/nre76NGfaPp3OhF3WMsq2tqvhk9i4/9lGM72Fdq1PBIe+6X5ZaXbadE9YuWdX0/9z2gX2r/mXo7ttlvybe9rbeZNstUuxT1/aPbHS6LNi27nuTk2ikpKzf/4HqUn3+wfkkfzdRxPx2/yvaf3/5gfpHSY1Ay5fyFvnzC+apsy3rn+7CM3PeVWZQq50JtefS8p44jmZeUk23vSEW9zXZqm0u9p9j5xe2/n45eRXW9nLsIU+H31vzbfsjez2k9qpSgosFXEE0n7OhLZ/gklXeAwpa8xCNdu5V46RGcu5EenfLNyI5qGHlKGmYjk+WjBKoNAp26Fv19J+6r6GJHgfSyzaS178SKt9LtFpiwtnhXC+w20fydrDxVdqvkAnOGqB9s1JFMkzrVqa+R7hvnHOMJmuOp6kvq2J998Wf6lqQn0xPuRep9mWOKndCe6bonqrZTF5+W6gPxsunXlwzUv7uV7iPx8b5lRy2v0GY/T71hqHpnlfT9jKLtStS8nsRt+JnrG7r9suezutxa7X3C+cvU64T1ixwew1/sy47Xf+f3j6Y8DdWxbiYyiw5I3nVXy901OKcto2WH1+bK895R85YfJiCZD91qWs05fH89Wu+S76sT6nBQ7yontMMl/ScfQI9HX4b7xFBMLf7QCduk2r76VlDdwPScnrypk7O7l3tIyejUxByjNx1nQmYcOptPQ9VqItvv8KAN08tii75ut5YZNfQGPbtNPF/flo3WO5X+xoo/Zew/NeXZUTWlbn219HrnHGMsXdfDN5aevEQNLhPVBt4qd0HPC75MPR5bdto6tz2rtosC6X5fvbcjdVMu1Wa/J1CfpNX3t3lzyCrq+3vl2xVSBRVfT05U0g+OlVunvU85f2l117+lvux8vly3V6IPXur4dHAwI++pc+jQlvk+UXkew2/RLdkeqnnmTk8oHypxdtR0O14np7LeyqXeU6qc0g6XdBdhqvmgT+mh4Es3Zbaz6Te56NNK9sHk5M0v1eKh/6xOmnpzDnSy1Z8s7lU8OqV05mKziLP9JwLdoUfyYebG7Rm/she4ovMQiz+x6PI2k+eDIduoHxx+UsqPWJYp6xtV8scY56Z0XdPzi5S+8VjmTSEzWphW3Z7lzt0u65Jt9muWr+r73JPVv6GdcaKK7X7ielLWD46VW9beVd9rP+WW+nKd83WJ8118Pnoy0Bsu3mUUDe9InCFc2rL42lwiDm1PTzLsbGQ5m8lSHdfw6cGuUKS83i7q9+XL9I1T3MfIVG9gOmrmwhz68mrO4TRzkTdvcsFctiqtpkc34je/eAh4ry3mvdim64i9h3xsLPsGxZ8Y0jJDu6pz6k8O+eCS/1RR5MFuszQPsRUrPw8nsP0gDidRnaJv4lPqm+8b5xzjSVTffFYXbb0/fZjx82rF7EP1Beclrl9Vexap2i5/zOtRddi5Wpv9oM1Gv4EWX2SL+n6sart615NTlPeDSP1yi+pY9/zVW/+2+nLktHa9xPkuK6MXpRJZ6AKSW2WXbcv42lx9HqPbdxtVkY0JcS3RT9KUjbYV1ztyqfeUWFVfrtunzqYqcLKaq1/Zaqea0dQxfqkGtsuUYL5T5z2Zp9pcrePtVrn5aoHZViVgPZEqs7PrdNS/ZoGdH630Z+l6H5c6xvzxxG3T6dg2yLZpMN/P169kc7vdfllnF2+W30Z9F+zMoqrzcFBeal95drvotd+vdqy+B33DLKp5jEfm632ky0/WLzygYDfXfS5uIz3H1Mdum0zH+0qtmzumaL0TzoMS1S96FZ4PLVe+U5tV0Oud7KD8kldcodwxZKbjr4v6/inbxctOup7k5Ms42g9KyrXlxPUv6ovR5tlze+z87esVKV0/4xb78gnnq7Itzzzf+frFbZfMc2/L/bLydoz3nynb1i3TVql6ZOXrrWfZY73Ue8qRtitthyP0unU19P/UhifRw2g1Vscvcz5f+gG+1kREpf78Q7DANfzaNYe+jz9D/3RcSyYyl+Az+zzr31ZQ7xv5vjrnuvOffAAdAICbcOpPn/81t1rvMzEydcc4X7h19GEA18bIFAAAwJURpgAAABwQpgAAABwQpgAAABwQpgAAABwQpgAAABwQpgAAABwQpgAAABwQpgAAABzU/g3oAAAA96zub0Dnz8ncMc4Xbh19GMC18edkAAAArowwBQAA4IAwBQAA4IAwBQAA4IAwBQAA4IAwBQAA4IAwBQAA4IAwBQAA4IAwBQAA4IAwBQAA4IAwBQAA4IAwBQAA4IAwBQAA4IAwBQAA4IAwBQAA4OCCYWoto0ZDGulX15cwWTYS3+8my0Zrs8BYj9LbdcU3G4Xid/X0SG1thb501TrdaIXIepTadl+uLjO9Xqj3bRZm65msU1JOJHdsycLouDKrGvn5uemqfWWWFZUNAAD+kguPTHmy2u1kp1/BXDp2bmQhS/mXLNv2bVBQ4aG/nUtgtgtk3tnIV2A2UDrS6Szk3SaK8GMpbc+TTbyCDlf9rcyD/T7jcnsDtd7yw4a5UNSmMn/pmal0PT/Hzcpy9qJtgnn2qGqr2pde9vpo20K9ViL9bKoDAAB/zBVv83ky1cFFaz7JsLOV79QA06FAvjZtmU49WZg0pQNRWwYD9eX2OwpJwZdsvKnExUbl2vDVG4i3WcqHXjH8UEFuKE/xenlV5Wjht2w7j9Kyk1kL6ScjSfGompae31dTVtW+9LLNRFrxdn21VXysAADgT/r9Z6Z6bxIMlzZAtGSysfPjAKND0eJd1joQtQfSaz0mI17h99Z+VaQnL3ORpUpTekRLhk9SlqWqy9FZrGr7/ShXoPY3mcUJLDVKt1upqcixfYm3stvY1+e4tN4AAOD3XTFMLeQ1eT5ppkJTWx5MSljLbCL2tpe+zWfWiEZpzBc9GXhq2+eltAc9keaDtDdfom/0NZ+G0lm87keDTLme6NU0vVyWM5mZLFQeSarL0SNiG2lHlXVWuS8dFNPLAADAn3fV23xDeU5uX3mrNxWTVFTxX2WRvu2V1n4wozLm+ScVvqJw05LH+BZhcyyfq7ZMWvFtMf0sUlSuoW+hqRC3qLrFp5WWox+Cb8mkvZK3pNC8/e281qQtq/IVI1V1zi/TL56ZAgDgT2vs9L2kE+k39xqrp+ifZnuXwS4VdK5E/1Tf+2BXEYbu1/nnC/gb6MMAru2c687vPzP1k0JfXhf7234AAACXdqWRKfwGzhduHX0YwLUxMgUAAHBlhCkAAAAHhCkAAAAHhCkAAAAHhCkAAAAHhCkAAAAHhCkAAAAHhCkAAAAHhCkAAAAHtX8DOgAAwD2r+xvQ+XMyd4zzhVtHHwZwbfw5GQAAgCsjTAEAADggTAEAADggTAEAADggTAEAADggTAEAADggTAEAADggTAEAADggTAEAADggTAEAADggTAEAADggTAEAADggTAEAADggTAEAADi4UJhay6jRkEbmNVJz9fyR+H43mT9a20209Si3fjy7IV0/tFMiod7ebJjdT7JOppzcPvJ1SxZGdcusauTn56ar9lVyPAAA4H5dKEz15G23k91uJZ76b2W+flNztYUs5Z+aVvOCuWz7NmSEvnRfHyUw66rXSqRvk0lv4Mlm+SFRVArlYykyf4lKk6T8nXyOm1E5/a3MA1tOeh+JaJtg3rHTZ6raV8XxAACA+3WF23yeTHXo0ZpPMuxs5VunpOBLNpuJtOKRnP5CZPsdBajeQLzNUj70RPihwthQnmwRB3Q53lTiXUT7WMh7nGPCb9l2HqVlJ7MW0k9GkrqyHwxLz++rKatqX1XHAwAA7tbvPjPlraJRnPj1OZYop/TkZS6yVGkq1MNSwyc7/1D4vbVfFavefj/KFaj9TWZxAtvPj0bbIsf2VX48AADgXl0hTC3kNXm2aSaTTVsedMJoPUpn8ZoaDcpqPg1VmprJzGSh8kii18uUY/bhycDcFdS3CDfSNjt0V7mvI8cDAADu01Vu8w3lObn15a3ss1TNsXyu2jJpxbfT1Cv9jJG+haaC2KLqFp+WL8c806T3EYrfbcmkvZK3+HGrA/vbea1JW1blK0ZK91WwTL94ZgoAgLvX2On7USfSAaHG6or+Sbh3GSQPo9ejf6rvfbCrCEOoUv98AX8LfRjAtZ1z3fndZ6aqhL68LuLbdQAAAH/TD49M4TdxvnDr6MMAru2+RqYAAABuAGEKAADAAWEKAADAAWEKAADAAWEKAADAAWEKAADAAWEKAADAAWEKAADAAWEKAADAQe3fgA4AAHDP6v4GdP6czB3jfOHW0YcBXBt/TgYAAODKCFMAAAAOCFMAAAAOCFMAAAAOCFMAAAAOCFMAAAAOCFMAAAAOCFMAAAAOCFMAAAAOCFMAAAAOCFMAAAAOCFMAAAAOCFMAAAAOLhamQr8rja4voZ0WWcuo0RV/PwMAAODuNHaK/fqoRqMh5auH4ndbshwG8jluynrUkNfH6Gv8jurzBfx99GEA13bOdeeCt/maMv43F5nMZB368rrwZBoHKTXdVZXTFTSv0Tqab0avRur/sfR0xbLS8gAAAK7rss9MNccy9RbSb02kvXqTnp2t53+qlKeT3m4XyHz76nb779LlAQAAnOnHHkDffmfTjb7tF40ktWSy2chXYBeICl/JKFNfTaWVLysvDwAA4HouG6bWI+lv5xIE9nafnZ3Mj0eSOna+4ckqGWVaqam0kmWV5QEAAFzPBcNUKP7rQrzpWJrNsfybb6Wffpap/SDmCarwQ5YbM8fNpcsDAAA4w8XCVOg/y6S9kjf7oFRzPBVv0ReTp3ovMt/2o9tyrS9pZ4ef6rt0eQAAAGe64K9GwF/D+cKtow8DuLZzrjs/9gA6AADAfwFhCgAAwAFhCgAAwAFhCgAAwAFhCgAAwAFhCgAAwAFhCgAAwAFhCgAAwAFhCgAAwAFhCgAAwEHtPycDAABwz+r+OZlaYQoAAABZ3OYDAABwQJgCAABwQJgCAABwQJgCAABwQJgCAABwQJgCAABwQJgCAABwQJgCAABwQJgCAABwQJgCAABwQJgCAAA4m8j/AeCW5eMwIQayAAAAAElFTkSuQmCC)\n",
    "\n",
    "а) уровни первого бокового лепестка относительно главного в $|X(f)|$ (практич.) в дБ ($20\\lg (\\dfrac{X(f)}{X(0)})$)\n",
    "\n",
    "б) расположение нулей $|X(f)|$ (практич. и теоретическое)"
   ]
  },
  {
   "cell_type": "code",
   "execution_count": null,
   "metadata": {
    "colab": {
     "base_uri": "https://localhost:8080/",
     "height": 577
    },
    "id": "WhcjsfYezA7_",
    "outputId": "5591d4f6-7cd9-4b9b-9212-1cda3078a0e3"
   },
   "outputs": [],
   "source": [
    "tau=150e-6 #100 мкс\n",
    "\n",
    "f_band=np.linspace(-8/tau, 8/tau, 500) # 500 - число точек в диапазоне, в которых вычисляется X(f)\n",
    "\n",
    "def boxcar(t, tau):\n",
    "    if abs(t)<tau/2:\n",
    "        return 1.0                 \n",
    "    else:\n",
    "        return 0.0                 \n",
    "    \n",
    "t_band=np.linspace(-2*tau, 2*tau, 1024)\n",
    "plt.figure(figsize=[6, 4])\n",
    "plt.plot(t_band*1e6, [boxcar(t, tau) for t in t_band])\n",
    "plt.xlabel(\"Время t, мкс\")\n",
    "plt.ylabel(\"$x(t)$, В\")\n",
    "plt.title(\"Сигнал\")\n",
    "plt.tight_layout() \n",
    "plt.grid()\n",
    "\n",
    "plt.figure(figsize=[6, 4])\n",
    "plt.plot(f_band/1e3, fourier_transform(signal=boxcar, f_band=f_band, tau=tau, t1=-tau/2, t2=tau/2, res_type=\"abs\")*1e6)\n",
    "plt.xlabel(\"Частота f, кГц\")\n",
    "plt.ylabel(\"$|X(f)|$,  мкВ / Гц\")\n",
    "plt.title(\"Спектр\")\n",
    "plt.tight_layout() \n",
    "plt.grid()"
   ]
  },
  {
   "cell_type": "markdown",
   "metadata": {
    "id": "yeFBB_AAzA8A"
   },
   "source": [
    "## Задача 2.2. Теорема запаздывания для преобразования Фурье"
   ]
  },
  {
   "cell_type": "markdown",
   "metadata": {
    "id": "ONaNtu66hIDT"
   },
   "source": [
    "|  Варианты:  |  1  |  2  |   3  |   4  |  5  |   6  |  7  |   8  |   9  |  10 |  11  |  12  |\n",
    "|:-----------:|:---:|:---:|:----:|:----:|:---:|:----:|:---:|:----:|:----:|:---:|:----:|:----:|\n",
    "|     **E, В**    | 0.1 | 0.5 |   1  |   5  |  1  |   5  | 0.5 |  2.5 |   6  | 1.6 |   7  |   8  |\n",
    "| **$\\tau$, мкс** | 100 | 500 | 1000 | 5000 | 400 | 2000 | 300 | 1500 | 3000 | 800 | 3500 | 4000 |"
   ]
  },
  {
   "cell_type": "markdown",
   "metadata": {
    "id": "XqCVM-avzA8A"
   },
   "source": [
    "Ниже приведен пример вычисления спектральной плотности для несимметричного прямоугольного импульса амплитудой $E=0.1$ В, длительностью $\\tau=100$ мкс. В данном случае импульс начинается в начале отсчета оси времени. \n",
    "\n",
    "Для заданных параметров $E$ и $\\tau$ из таблицы, построить и сравнить графики $\\text{Re} X(f)$, $\\text{Im} X(f)$, $|X(f)|$ для прямоугольного импульса, начинающегося в моменты времени $-\\tau /2$ и $0$. Как согласуются результаты с теоремой запаздывания для преобразования Фурье?\n"
   ]
  },
  {
   "cell_type": "code",
   "execution_count": null,
   "metadata": {
    "colab": {
     "base_uri": "https://localhost:8080/",
     "height": 577
    },
    "id": "NNM-QXnVzA8A",
    "outputId": "343852ac-8c0d-49d3-c1bc-d21d27235fd9"
   },
   "outputs": [],
   "source": [
    "tau=150*1e-6 #150 мкс\n",
    "\n",
    "f_band=np.linspace(-4/tau, 4/tau, 1000) # 1000 - число точек в диапазоне, в которых вычисляется X(f)\n",
    "\n",
    "def boxcar(t, tau):\n",
    "    if 0<t<tau:\n",
    "        return 0.1 # 0.1 В\n",
    "    else:\n",
    "        return 0.0 # 0 В\n",
    "    \n",
    "t_band=np.linspace(-2*tau, 2*tau, 1024)\n",
    "plt.figure(figsize=[8, 4])\n",
    "plt.plot(t_band*1e6, [boxcar(t, tau) for t in t_band])\n",
    "plt.xlabel(\"Время t, мкс\")\n",
    "plt.ylabel(\"$x(t)$, В\")\n",
    "plt.title(\"Сигнал\")\n",
    "plt.tight_layout() \n",
    "plt.grid()\n",
    "\n",
    "plt.figure(figsize=[8, 4])\n",
    "plt.plot(f_band/1e3, fourier_transform(signal=boxcar, f_band=f_band, tau=tau, t1=-2*tau, t2=2*tau, res_type=\"abs\")*1e6, label='$|X(f)|$')\n",
    "plt.plot(f_band/1e3, fourier_transform(signal=boxcar, f_band=f_band, tau=tau, t1=-2*tau, t2=2*tau, res_type=\"Re\")*1e6, label='${Re }X(f)$')\n",
    "plt.plot(f_band/1e3, fourier_transform(signal=boxcar, f_band=f_band, tau=tau, t1=-2*tau, t2=2*tau, res_type=\"Im\")*1e6, label='${Im }X(f)$')\n",
    "plt.xlabel(\"Частота f, кГц\")\n",
    "plt.ylabel(\"$|X(f)|$,  мкВ / Гц\")\n",
    "plt.title(\"Спектр\")\n",
    "plt.legend(loc='best', bbox_to_anchor=(1, 1))\n",
    "plt.tight_layout() \n",
    "plt.grid()"
   ]
  },
  {
   "cell_type": "markdown",
   "metadata": {
    "id": "zzPUYsP4zA8A"
   },
   "source": [
    "## Задача 2.3. Спектр отрезка синусоиды"
   ]
  },
  {
   "cell_type": "markdown",
   "metadata": {
    "id": "vf83nswMjRI_"
   },
   "source": [
    "|  Варианты:  |  1  |  2  |  3  |  4  |  5  |  6 |  7  |  8  |  9  | 10 |  11 |  12 |\n",
    "|:-----------:|:---:|:---:|:---:|:---:|:---:|:--:|:---:|:---:|:---:|:--:|:---:|:---:|\n",
    "|  $f_0$**, кГц** |  10 | 100 |  60 |  40 |  65 | 90 |  30 |  20 |  55 | 75 |  35 |  50 |\n",
    "| $\\tau$**, мкс** | 500 | 50  | 100 | 125 | 100 | 55 | 200 | 225 | 109 | 60 | 171 | 100 |"
   ]
  },
  {
   "cell_type": "markdown",
   "metadata": {
    "id": "M-EFcCxKzA8A"
   },
   "source": [
    "Ниже приведен пример вычисления спектральной плотности для отрезка синусоиды $x(t)=\\sin(2\\pi f_0 t)$ c частотой $f_0=10$ кГц длительностью  $\\tau=500$  мкс. \n",
    "\n",
    "Для заданных параметров  $f_0$  и  $\\tau$  из таблицы, построить $|X(f)|$ для отрезка синусоиды $x(t)=\\sin(2\\pi f_0 t)$ c частотой $f_0$ длительностью  $\\tau$. \n",
    "\n",
    "1) Сравнить положение главных спектральных максимумов с частотой синусоиды. \n",
    "\n",
    "2) Повторить вычисления для отрезка синусоиды, взвешанного окном Ханна соотвествующей длины. Сравнить ширину главного лепестка на нулевом уровне и значение  $|X(f)|$ на частоте $f_0$ для сигнала $x(t)$, взвешанного прямоугольным окном и окном Ханна.\n",
    "\n",
    "3) Сравнить спектр периодического сигнала  $x(t)=\\sin(2\\pi f_0 t)$ с получившимися графиками. "
   ]
  },
  {
   "cell_type": "code",
   "execution_count": null,
   "metadata": {
    "colab": {
     "base_uri": "https://localhost:8080/",
     "height": 577
    },
    "id": "c9CbbRnAzA8B",
    "outputId": "45ea1a35-8fb3-4216-cfd4-8f7fd93badb6"
   },
   "outputs": [],
   "source": [
    "f0=10*1e3       # 10 кГц\n",
    "tau=500*1e-6    # 500 мкс\n",
    "\n",
    "def sin_with_boxcar(t, tau):                            \n",
    "    if 0<=t<=tau:\n",
    "        # случай прямоугольного окна\n",
    "        return np.sin(2*np.pi*f0*t) \n",
    "        # случай окна Ханна\n",
    "        #\n",
    "        return np.sin(2*np.pi*f0*t) * (0.5+0.5*np.cos(np.pi*(t-tau/2)/(tau/2)))\n",
    "    else:\n",
    "        return 0.0\n",
    "    \n",
    "f_band=np.linspace(-2*f0, 2*f0, 2000) \n",
    "\n",
    "t_band=np.linspace(-0.5*tau, 1.5*tau, 1024)\n",
    "plt.figure(figsize=[8, 4])\n",
    "plt.plot(t_band*1e6, [sin_with_boxcar(t, tau) for t in t_band])\n",
    "plt.title(\"Сигнал\")\n",
    "plt.xlabel(\"Время t, мкс\")\n",
    "plt.ylabel(\"$x(t)$, В\")\n",
    "plt.tight_layout() \n",
    "plt.grid()\n",
    "\n",
    "plt.figure(figsize=[8, 4])\n",
    "plt.plot(f_band/1e3, fourier_transform(signal=sin_with_boxcar, f_band=f_band, tau=tau, t1=-2*tau, t2=2*tau, res_type=\"abs\")*1e6)\n",
    "plt.title(\"Спектр\")\n",
    "plt.xlabel(\"Частота f, кГц\")\n",
    "plt.ylabel(\"$|X(f)|$,  мкВ / Гц\")\n",
    "plt.tight_layout() \n",
    "plt.grid()"
   ]
  },
  {
   "cell_type": "markdown",
   "metadata": {
    "id": "BK2w85v8zA8B"
   },
   "source": [
    "## Задача 2.4. Спектр пачки равноотстоящих импульсов"
   ]
  },
  {
   "cell_type": "markdown",
   "metadata": {
    "id": "tGMF04lsw8SN"
   },
   "source": [
    "|    Варианты:    |  1  |  2  |  3  |  4  |  5  |  6  |  7  |  8  |  9  |  10 |  11 |  12 |\n",
    "|:---------------:|:---:|:---:|:---:|:---:|:---:|:---:|:---:|:---:|:---:|:---:|:---:|:---:|\n",
    "|        N        |  3  |  4  |  3  |  4  |  3  |  4  |  3  |  4  |  3  |  4  |  3  |  4  |\n",
    "| $\\tau$**, мкс**     | 300 | 50  | 100 | 125 | 250 | 60  | 200 | 400 | 500 | 150 | 450 | 100 |\n",
    "| $T_{period}$**, мкс** | 600 | 125 | 200 | 275 | 500 | 100 | 400 | 700 | 800 | 300 | 810 | 200 |"
   ]
  },
  {
   "cell_type": "markdown",
   "metadata": {
    "id": "cCMqoQYHzA8B"
   },
   "source": [
    "Ниже приведен пример вычисления спектр пачки из $N=4$ равноотстоящих импульсов длительностью $\\tau = 100$ мкс с периодом повторения $T_{period}=400$ мкс.\n",
    "\n",
    "Повторить вычисления для заданных значений $N$, $\\tau$, $T_{period}$. Сравнить получившийся график с аналитическим выражением для спектра.\n"
   ]
  },
  {
   "cell_type": "code",
   "execution_count": null,
   "metadata": {
    "colab": {
     "base_uri": "https://localhost:8080/",
     "height": 611
    },
    "id": "eLxoiDo8zA8B",
    "outputId": "61c7142c-75f0-45ba-8c80-471243e8c665"
   },
   "outputs": [],
   "source": [
    "N=3\n",
    "tau=100e-6 #100 мкс\n",
    "period = 400e-6 \n",
    "\n",
    "f_band=np.linspace(-4/tau, 4/tau, 2000) # 2000 - число точек в диапазоне, в которых вычисляется X(f)\n",
    "\n",
    "def boxcar(t, tau):\n",
    "    \n",
    "    for n in range(N):\n",
    "        tau0 = period * n\n",
    "        tau1 = tau + period * n\n",
    "        if tau0 < t < tau1:\n",
    "            return 0.1 # 0.1 В\n",
    "    return 0.0 # 0 В\n",
    "    \n",
    "t_band=np.linspace(-0.5*tau, N*period, 1024)\n",
    "plt.figure(figsize=[8, 4])\n",
    "plt.plot(t_band*1e6, [boxcar(t, tau) for t in t_band])\n",
    "plt.xlabel(\"Время t, мкс\")\n",
    "plt.ylabel(\"$x(t)$, В\")\n",
    "plt.title(\"Сигнал\")\n",
    "plt.tight_layout() \n",
    "plt.grid()\n",
    "\n",
    "plt.figure(figsize=[8, 4])\n",
    "plt.plot(f_band/1e3, fourier_transform(signal=boxcar, f_band=f_band, tau=tau, t1=0, t2=N*period, res_type=\"abs\")*1e6)\n",
    "plt.title(\"Спектр\")\n",
    "plt.xlabel(\"Частота f, кГц\")\n",
    "plt.ylabel(\"$|X(f)|$,  мкВ / Гц\")\n",
    "plt.tight_layout() \n",
    "plt.grid()"
   ]
  },
  {
   "cell_type": "markdown",
   "metadata": {
    "id": "h7lYnKLPzA8C"
   },
   "source": [
    "# Занятие 3. Эффект наложения спектров при дискретизации сигналов."
   ]
  },
  {
   "cell_type": "code",
   "execution_count": null,
   "metadata": {
    "id": "-lJJfhKizA8C"
   },
   "outputs": [],
   "source": [
    "import scipy.integrate as integrate\n",
    "import numpy as np\n",
    "import matplotlib.pyplot as plt\n"
   ]
  },
  {
   "cell_type": "markdown",
   "metadata": {
    "id": "YnDe_D_fzA8C"
   },
   "source": [
    "## Задача 3.1. Эффект наложения при дискретизации прямоугольного импульса"
   ]
  },
  {
   "cell_type": "markdown",
   "metadata": {
    "id": "Rfo4WnqH9mhk"
   },
   "source": [
    "|  Варианты:  |  1  |  2  |   3  |   4  |  5  |   6  |  7  |   8  |   9  |  10 |  11  |  12  |\n",
    "|:-----------:|:---:|:---:|:----:|:----:|:---:|:----:|:---:|:----:|:----:|:---:|:----:|:----:|\n",
    "| $\\tau$**, мкс** | 100 | 500 | 1000 | 5000 | 400 | 2000 | 300 | 1500 | 3000 | 800 | 3500 | 4000 |\n"
   ]
  },
  {
   "cell_type": "markdown",
   "metadata": {
    "id": "EYjBFMM73XX0"
   },
   "source": [
    "Рассмотреть прямоугольный импульс длительностью $1.05\\tau$. Дискретизовать его с частотой $f_s  = 10/ \\tau $.  Построить спектр прямоугольного импульса и полученного дискретизованного сигнала. \n",
    "\n",
    "Пронаблюдать наложение спектра при дискретизации. \n",
    "\n",
    "Найти сигнал,  который дискретизуется такой же последовательностью, как и прямоугольный импульс, но при этом не наблюдается эффект наложения (сигнал, который восстанавливается с помощью интерполяционного ряда Котельникова)."
   ]
  },
  {
   "cell_type": "code",
   "execution_count": null,
   "metadata": {
    "id": "Ex3YLA5kzA8D"
   },
   "outputs": [],
   "source": [
    "def DTFT_abs3(xk, fs, M=2048):\n",
    "    res=abs(np.fft.fftshift(np.fft.fft(xk, M)))\n",
    "    return fs*np.arange(-1.5, 1.5, 1/M), np.hstack((res, res, res)) "
   ]
  },
  {
   "cell_type": "code",
   "execution_count": 1,
   "metadata": {
    "colab": {
     "base_uri": "https://localhost:8080/",
     "height": 631
    },
    "id": "wNOLJjkIzA8D",
    "outputId": "828e6e87-ca3b-4a87-fa84-b3f6ea8fe8c0"
   },
   "outputs": [
    {
     "ename": "NameError",
     "evalue": "name 'np' is not defined",
     "output_type": "error",
     "traceback": [
      "\u001b[0;31m---------------------------------------------------------------------------\u001b[0m",
      "\u001b[0;31mNameError\u001b[0m                                 Traceback (most recent call last)",
      "\u001b[0;32m/tmp/ipykernel_45953/1307639534.py\u001b[0m in \u001b[0;36m<module>\u001b[0;34m\u001b[0m\n\u001b[1;32m      2\u001b[0m \u001b[0mfs\u001b[0m\u001b[0;34m=\u001b[0m\u001b[0;36m10\u001b[0m\u001b[0;34m/\u001b[0m\u001b[0mtau\u001b[0m\u001b[0;34m\u001b[0m\u001b[0;34m\u001b[0m\u001b[0m\n\u001b[1;32m      3\u001b[0m \u001b[0;34m\u001b[0m\u001b[0m\n\u001b[0;32m----> 4\u001b[0;31m \u001b[0mf_band\u001b[0m\u001b[0;34m=\u001b[0m\u001b[0mnp\u001b[0m\u001b[0;34m.\u001b[0m\u001b[0mlinspace\u001b[0m\u001b[0;34m(\u001b[0m\u001b[0;34m-\u001b[0m\u001b[0;36m1.5\u001b[0m\u001b[0;34m*\u001b[0m\u001b[0mfs\u001b[0m\u001b[0;34m,\u001b[0m \u001b[0;36m1.5\u001b[0m\u001b[0;34m*\u001b[0m\u001b[0mfs\u001b[0m\u001b[0;34m,\u001b[0m \u001b[0;36m2000\u001b[0m\u001b[0;34m)\u001b[0m \u001b[0;31m# 2000 - число точек в диапазоне, в которых вычисляется X(f)\u001b[0m\u001b[0;34m\u001b[0m\u001b[0;34m\u001b[0m\u001b[0m\n\u001b[0m\u001b[1;32m      5\u001b[0m \u001b[0;34m\u001b[0m\u001b[0m\n\u001b[1;32m      6\u001b[0m \u001b[0;32mdef\u001b[0m \u001b[0mboxcar\u001b[0m\u001b[0;34m(\u001b[0m\u001b[0mt\u001b[0m\u001b[0;34m,\u001b[0m \u001b[0mtau\u001b[0m\u001b[0;34m)\u001b[0m\u001b[0;34m:\u001b[0m\u001b[0;34m\u001b[0m\u001b[0;34m\u001b[0m\u001b[0m\n",
      "\u001b[0;31mNameError\u001b[0m: name 'np' is not defined"
     ]
    }
   ],
   "source": [
    "\n",
    "tau=200*1e-6 #200 мкс\n",
    "fs=10/tau\n",
    "\n",
    "f_band=np.linspace(-1.5*fs, 1.5*fs, 2000) # 2000 - число точек в диапазоне, в которых вычисляется X(f)\n",
    "\n",
    "def boxcar(t, tau):\n",
    "    if 0 <= t <= 1.05*tau:\n",
    "        return 1.0 \n",
    "    elif np.isclose(t, 1.05*tau, atol=1e-12) or np.isclose(t, 0, atol=1e-12):\n",
    "        return 1.0 \n",
    "    else:\n",
    "        return 0.0 \n",
    "\n",
    "def sinc_phi(t, k, fs):\n",
    "    dt=1/fs\n",
    "    if np.isclose(0, t-k*dt):\n",
    "        return 1.0\n",
    "    else:\n",
    "        return np.sin(np.pi*fs*(t-k*dt))/(np.pi*fs*(t-k*dt))\n",
    "    \n",
    "def sinc_interp(t, xk):\n",
    "    #print([xk*fs*sinc_phi(t, k, fs) for k in range(len(xk))])\n",
    "    return sum([xk[k]*fs*sinc_phi(t, k, fs) for k in range(len(xk))])\n",
    "    \n",
    "\n",
    "\n",
    "tk = np.arange(0, 2*tau+1.0/fs, 1.0/fs, dtype=float)\n",
    "xk = np.array([(1/fs)*boxcar(tk1, tau) for tk1 in tk])\n",
    "    \n",
    "t_band=np.linspace(-0.2*tau, 2*tau, 1024)\n",
    "plt.figure(figsize=[12, 4])\n",
    "plt.plot(t_band*1e6, [boxcar(t, tau) for t in t_band], 'g', label='прямоугольный импульс')\n",
    "plt.stem(tk*1e6, xk*fs, 'b', 'bo', label='отсчеты сигнала $x[k]/{\\\\Delta t}$')\n",
    "\n",
    "\n",
    "\n",
    "plt.plot(t_band*1e6, np.array([sinc_interp(t, xk) for t in t_band]), 'c', label='сигнал, востановленный \\nрядом Котельникова')\n",
    "\n",
    "plt.title(\"Сигнал\")\n",
    "plt.xlabel(\"Время t, мкс\")\n",
    "plt.ylabel(\"$x(t)$, В\")\n",
    "plt.grid()\n",
    "plt.legend(loc='best', bbox_to_anchor=(1, 1))\n",
    "plt.tight_layout() \n",
    "\n",
    "plt.figure(figsize=[12, 4])\n",
    "\n",
    "\n",
    "DFTF_plot=DTFT_abs3(xk, fs)\n",
    "plt.plot(DFTF_plot[0]/1e3, DFTF_plot[1]*1e6, 'b', label='ДВПФ для $x[k]$')\n",
    "\n",
    "plt.plot(f_band/1e3, fourier_transform(signal=boxcar, f_band=f_band, tau=tau, t1=-2*tau, t2=2*tau, res_type=\"abs\")*1e6, \n",
    "         'g', label='спектр прямоугольного импульса')\n",
    "\n",
    "plt.title(\"Спектр\")\n",
    "plt.xlabel(\"Частота f, кГц\")\n",
    "plt.ylabel(\"$|X(f)|$,  мкВ / Гц\")\n",
    "plt.grid()\n",
    "plt.legend(loc='best', bbox_to_anchor=(1, 1))\n",
    "plt.tight_layout() "
   ]
  },
  {
   "cell_type": "markdown",
   "metadata": {
    "id": "uxA47-RtzA8D"
   },
   "source": [
    "## Задача 3.2. Эффект наложения при прореживании сигнала"
   ]
  },
  {
   "cell_type": "markdown",
   "metadata": {
    "id": "2DZ1QeR98yLU"
   },
   "source": [
    "| Варианты: | 1  | 2  | 3  | 4  | 5  | 6  | 7  | 8  | 9  | 10 | 11 | 12 |\n",
    "|:---------:|----|----|----|----|----|----|----|----|----|----|----|----|\n",
    "| $K_1$     | 35 | 10 | 20 | 25 | 15 | 40 | 20 | 15 | 40 | 35 | 10 | 25 |\n",
    "| $K_2$     | 70 | 60 | 65 | 80 | 75 | 90 | 85 | 60 | 95 | 80 | 70 | 75 |"
   ]
  },
  {
   "cell_type": "markdown",
   "metadata": {
    "id": "S93__PUhzA8E"
   },
   "source": [
    "\n",
    "Выполнить прореживание (downsampling) сигнала камертона (основная частота сигнала 440 Гц, частота дискретизации 44100 Гц) без предварительной фильтрации, оставляя в одном случае каждый $K_1$-ый, а в другом каждый $K_2$-ый отсчет сигнала. В чем принципиальное отличие между спектрами получившихся сигналов и какими эффектами оно обусловлено? "
   ]
  },
  {
   "cell_type": "code",
   "execution_count": null,
   "metadata": {
    "id": "PmNZ84kFzA8E"
   },
   "outputs": [],
   "source": [
    "def DTFT_abs(xk, fs, M=2048):\n",
    "    res=abs(np.fft.fftshift(np.fft.fft(xk, M)))\n",
    "    return fs*np.arange(-0.5, 0.5, 1/M), np.hstack((res)) "
   ]
  },
  {
   "cell_type": "code",
   "execution_count": null,
   "metadata": {
    "colab": {
     "base_uri": "https://localhost:8080/",
     "height": 661
    },
    "id": "MCSFkSsSzA8E",
    "outputId": "107b68eb-7e2f-4407-8d1f-fbd84a5791d6",
    "scrolled": false
   },
   "outputs": [],
   "source": [
    "import matplotlib.pyplot as plt\n",
    "import numpy as np\n",
    "import scipy.io.wavfile\n",
    "from scipy import signal\n",
    "\n",
    "fs, x=scipy.io.wavfile.read('./tuning-fork.wav')\n",
    "#for mono channel \n",
    "#x=x[:,1] \n",
    "\n",
    "plt.figure(figsize=[10, 3], dpi=100)\n",
    "\n",
    "DFTF_plot=DTFT_abs(x/fs, fs)\n",
    "plt.plot(DFTF_plot[0], DFTF_plot[1])\n",
    "plt.grid()\n",
    "plt.title(\"ДВПФ исходного сигнала\")\n",
    "plt.xlabel(\"Частота f, Гц\")\n",
    "plt.ylabel(\"$|X(f)|$\")\n",
    "plt.tight_layout() \n",
    "\n",
    "# downsampling\n",
    "plt.figure(figsize=[10, 3], dpi=100)\n",
    "K=40\n",
    "y=np.zeros(x.size//K+1)\n",
    "\n",
    "u=0\n",
    "for xk in np.arange(0, x.size, K):\n",
    "    y[u]=x[xk]/K\n",
    "    u=u+1\n",
    "# end \n",
    "DFTF_plot=DTFT_abs(y/(fs/K), fs/K)\n",
    "plt.plot(DFTF_plot[0], DFTF_plot[1])\n",
    "plt.grid()\n",
    "plt.title(\"ДВПФ прореженного сигнала $К_1=$%i\" %K)\n",
    "plt.xlabel(\"Частота f, Гц\")\n",
    "plt.ylabel(\"$|X(f)|$\")\n",
    "plt.tight_layout() \n",
    "\n",
    "# downsampling\n",
    "plt.figure(figsize=[10, 3], dpi=100)\n",
    "K=80\n",
    "y=np.zeros(x.size//K+1)\n",
    "\n",
    "u=0\n",
    "for xk in np.arange(0, x.size, K):\n",
    "    y[u]=x[xk]/K\n",
    "    u=u+1\n",
    "# end\n",
    "    \n",
    "DFTF_plot=DTFT_abs(y/(fs/K), fs/K)\n",
    "plt.plot(DFTF_plot[0], DFTF_plot[1])\n",
    "plt.grid()\n",
    "plt.title(\"ДВПФ прореженного сигнала $К_1=$%i\" %K)\n",
    "plt.xlabel(\"Частота f, Гц\")\n",
    "plt.ylabel(\"$|X(f)|$\")\n",
    "plt.tight_layout() "
   ]
  }
 ],
 "metadata": {
  "colab": {
   "collapsed_sections": [],
   "name": "Василий Зайцев - Lab1_k3.ipynb",
   "provenance": [],
   "toc_visible": true
  },
  "kernelspec": {
   "display_name": "Python 3 (ipykernel)",
   "language": "python",
   "name": "python3"
  },
  "language_info": {
   "codemirror_mode": {
    "name": "ipython",
    "version": 3
   },
   "file_extension": ".py",
   "mimetype": "text/x-python",
   "name": "python",
   "nbconvert_exporter": "python",
   "pygments_lexer": "ipython3",
   "version": "3.8.11"
  }
 },
 "nbformat": 4,
 "nbformat_minor": 1
}
